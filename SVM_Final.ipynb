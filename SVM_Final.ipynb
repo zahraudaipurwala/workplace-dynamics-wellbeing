{
  "nbformat": 4,
  "nbformat_minor": 0,
  "metadata": {
    "colab": {
      "provenance": []
    },
    "kernelspec": {
      "name": "python3",
      "display_name": "Python 3"
    },
    "language_info": {
      "name": "python"
    }
  },
  "cells": [
    {
      "cell_type": "markdown",
      "source": [
        "# Imports."
      ],
      "metadata": {
        "id": "ZQ2h8-q_S7F8"
      }
    },
    {
      "cell_type": "code",
      "execution_count": null,
      "metadata": {
        "id": "OCqfD_-7R7n3"
      },
      "outputs": [],
      "source": [
        "import pandas as pd\n",
        "import numpy as np\n",
        "\n",
        "# For Visualizations\n",
        "import matplotlib.pyplot as plt\n",
        "import seaborn as sns\n",
        "\n",
        "# For Encoding\n",
        "from sklearn.preprocessing import OrdinalEncoder"
      ]
    },
    {
      "cell_type": "markdown",
      "source": [
        "# Uploading Dataset."
      ],
      "metadata": {
        "id": "33srZQkpTLk9"
      }
    },
    {
      "cell_type": "code",
      "source": [
        "# Mounting drive to colab\n",
        "from google.colab import drive\n",
        "drive.mount('/content/drive')"
      ],
      "metadata": {
        "colab": {
          "base_uri": "https://localhost:8080/"
        },
        "id": "5TSn8cdZTLUm",
        "outputId": "c4b429c1-cd11-4cee-8fa5-049e5d277536"
      },
      "execution_count": null,
      "outputs": [
        {
          "output_type": "stream",
          "name": "stdout",
          "text": [
            "Mounted at /content/drive\n"
          ]
        }
      ]
    },
    {
      "cell_type": "code",
      "source": [
        "# Uploading dataset\n",
        "df = pd.read_csv('/content/drive/MyDrive/Pod 4/Work and Self-Rated Mental Health Data.csv')\n",
        "df.info()"
      ],
      "metadata": {
        "colab": {
          "base_uri": "https://localhost:8080/"
        },
        "id": "l_aojDz2TQ5V",
        "outputId": "aea1014a-34f8-4192-e356-8e6a0806483e"
      },
      "execution_count": null,
      "outputs": [
        {
          "output_type": "stream",
          "name": "stdout",
          "text": [
            "<class 'pandas.core.frame.DataFrame'>\n",
            "RangeIndex: 1576 entries, 0 to 1575\n",
            "Data columns (total 12 columns):\n",
            " #   Column                    Non-Null Count  Dtype  \n",
            "---  ------                    --------------  -----  \n",
            " 0   age                       1576 non-null   object \n",
            " 1   gender                    1576 non-null   object \n",
            " 2   covid_distancing          1576 non-null   object \n",
            " 3   covid_masks               1576 non-null   object \n",
            " 4   vaccinated                1576 non-null   object \n",
            " 5   self_rated_mental_health  1576 non-null   object \n",
            " 6   ethnicity                 1576 non-null   object \n",
            " 7   hours                     1576 non-null   float64\n",
            " 8   occupation                1576 non-null   object \n",
            " 9   work_from_home            1576 non-null   object \n",
            " 10  income                    1576 non-null   object \n",
            " 11  educational_attainment    1576 non-null   object \n",
            "dtypes: float64(1), object(11)\n",
            "memory usage: 147.9+ KB\n"
          ]
        }
      ]
    },
    {
      "cell_type": "markdown",
      "source": [
        "# Data Cleaning."
      ],
      "metadata": {
        "id": "ZJbU0Ld5XDXg"
      }
    },
    {
      "cell_type": "code",
      "source": [
        "# Since there is no null values and no columns we want to drop we set df equal to df_clean\n",
        "df_clean = df"
      ],
      "metadata": {
        "id": "oefQAdQ0XGZK"
      },
      "execution_count": null,
      "outputs": []
    },
    {
      "cell_type": "markdown",
      "source": [
        "# Data Encoding."
      ],
      "metadata": {
        "id": "tVd3lYqdUUCZ"
      }
    },
    {
      "cell_type": "markdown",
      "source": [
        "It's important for us to encode certain columns using different encoding methods because particular methods represent the original data more accurately than others. Hence, models interpret them more correctly or can find correlation. (ie, it's not a one size fits all)"
      ],
      "metadata": {
        "id": "Exuf-kcXUhAN"
      }
    },
    {
      "cell_type": "code",
      "source": [
        "df_clean.head()"
      ],
      "metadata": {
        "colab": {
          "base_uri": "https://localhost:8080/",
          "height": 496
        },
        "id": "ecmWwQ5fYZJx",
        "outputId": "771ce23f-c3fa-4881-d149-5b428b88656b"
      },
      "execution_count": null,
      "outputs": [
        {
          "output_type": "execute_result",
          "data": {
            "text/plain": [
              "                  age      gender covid_distancing   covid_masks  \\\n",
              "0  40 to 49 years-old  Non-binary     Very Closely  Very Closely   \n",
              "1  18 to 29 years-old       Woman         Somewhat  Very Closely   \n",
              "2  30 to 39 years-old         Man         Somewhat      Somewhat   \n",
              "3  60 years and older       Woman         Somewhat  Very Closely   \n",
              "4  30 to 39 years-old         Man         Somewhat    Not at all   \n",
              "\n",
              "       vaccinated self_rated_mental_health                      ethnicity  \\\n",
              "0  Yes, two doses                 Positive  African, Caribbean, or Black    \n",
              "1   Yes, one dose                 Positive  African, Caribbean, or Black    \n",
              "2   Yes, one dose                 Positive                 Middle Eastern   \n",
              "3  Yes, two doses                 Positive                          White   \n",
              "4              No                 Negative                          Other   \n",
              "\n",
              "   hours                                         occupation work_from_home  \\\n",
              "0   10.0  education, law and social, community, and gove...         Hybrid   \n",
              "1    6.0                                         Management         Hybrid   \n",
              "2    2.0                                           Business         Hybrid   \n",
              "3   40.0                                         Management         Hybrid   \n",
              "4    7.0                                           Business         Hybrid   \n",
              "\n",
              "               income       educational_attainment  \n",
              "0  $60,000 to $89,999  Bachelor's Degree or Higher  \n",
              "1   Less than $30,000                 Some College  \n",
              "2   Less than $30,000  Bachelor's Degree or Higher  \n",
              "3  $30,000 to $59,999  Bachelor's Degree or Higher  \n",
              "4  $30,000 to $59,999  Bachelor's Degree or Higher  "
            ],
            "text/html": [
              "\n",
              "  <div id=\"df-982b2dbf-04c1-4794-9dc0-5f2f9ec986cb\" class=\"colab-df-container\">\n",
              "    <div>\n",
              "<style scoped>\n",
              "    .dataframe tbody tr th:only-of-type {\n",
              "        vertical-align: middle;\n",
              "    }\n",
              "\n",
              "    .dataframe tbody tr th {\n",
              "        vertical-align: top;\n",
              "    }\n",
              "\n",
              "    .dataframe thead th {\n",
              "        text-align: right;\n",
              "    }\n",
              "</style>\n",
              "<table border=\"1\" class=\"dataframe\">\n",
              "  <thead>\n",
              "    <tr style=\"text-align: right;\">\n",
              "      <th></th>\n",
              "      <th>age</th>\n",
              "      <th>gender</th>\n",
              "      <th>covid_distancing</th>\n",
              "      <th>covid_masks</th>\n",
              "      <th>vaccinated</th>\n",
              "      <th>self_rated_mental_health</th>\n",
              "      <th>ethnicity</th>\n",
              "      <th>hours</th>\n",
              "      <th>occupation</th>\n",
              "      <th>work_from_home</th>\n",
              "      <th>income</th>\n",
              "      <th>educational_attainment</th>\n",
              "    </tr>\n",
              "  </thead>\n",
              "  <tbody>\n",
              "    <tr>\n",
              "      <th>0</th>\n",
              "      <td>40 to 49 years-old</td>\n",
              "      <td>Non-binary</td>\n",
              "      <td>Very Closely</td>\n",
              "      <td>Very Closely</td>\n",
              "      <td>Yes, two doses</td>\n",
              "      <td>Positive</td>\n",
              "      <td>African, Caribbean, or Black</td>\n",
              "      <td>10.0</td>\n",
              "      <td>education, law and social, community, and gove...</td>\n",
              "      <td>Hybrid</td>\n",
              "      <td>$60,000 to $89,999</td>\n",
              "      <td>Bachelor's Degree or Higher</td>\n",
              "    </tr>\n",
              "    <tr>\n",
              "      <th>1</th>\n",
              "      <td>18 to 29 years-old</td>\n",
              "      <td>Woman</td>\n",
              "      <td>Somewhat</td>\n",
              "      <td>Very Closely</td>\n",
              "      <td>Yes, one dose</td>\n",
              "      <td>Positive</td>\n",
              "      <td>African, Caribbean, or Black</td>\n",
              "      <td>6.0</td>\n",
              "      <td>Management</td>\n",
              "      <td>Hybrid</td>\n",
              "      <td>Less than $30,000</td>\n",
              "      <td>Some College</td>\n",
              "    </tr>\n",
              "    <tr>\n",
              "      <th>2</th>\n",
              "      <td>30 to 39 years-old</td>\n",
              "      <td>Man</td>\n",
              "      <td>Somewhat</td>\n",
              "      <td>Somewhat</td>\n",
              "      <td>Yes, one dose</td>\n",
              "      <td>Positive</td>\n",
              "      <td>Middle Eastern</td>\n",
              "      <td>2.0</td>\n",
              "      <td>Business</td>\n",
              "      <td>Hybrid</td>\n",
              "      <td>Less than $30,000</td>\n",
              "      <td>Bachelor's Degree or Higher</td>\n",
              "    </tr>\n",
              "    <tr>\n",
              "      <th>3</th>\n",
              "      <td>60 years and older</td>\n",
              "      <td>Woman</td>\n",
              "      <td>Somewhat</td>\n",
              "      <td>Very Closely</td>\n",
              "      <td>Yes, two doses</td>\n",
              "      <td>Positive</td>\n",
              "      <td>White</td>\n",
              "      <td>40.0</td>\n",
              "      <td>Management</td>\n",
              "      <td>Hybrid</td>\n",
              "      <td>$30,000 to $59,999</td>\n",
              "      <td>Bachelor's Degree or Higher</td>\n",
              "    </tr>\n",
              "    <tr>\n",
              "      <th>4</th>\n",
              "      <td>30 to 39 years-old</td>\n",
              "      <td>Man</td>\n",
              "      <td>Somewhat</td>\n",
              "      <td>Not at all</td>\n",
              "      <td>No</td>\n",
              "      <td>Negative</td>\n",
              "      <td>Other</td>\n",
              "      <td>7.0</td>\n",
              "      <td>Business</td>\n",
              "      <td>Hybrid</td>\n",
              "      <td>$30,000 to $59,999</td>\n",
              "      <td>Bachelor's Degree or Higher</td>\n",
              "    </tr>\n",
              "  </tbody>\n",
              "</table>\n",
              "</div>\n",
              "    <div class=\"colab-df-buttons\">\n",
              "\n",
              "  <div class=\"colab-df-container\">\n",
              "    <button class=\"colab-df-convert\" onclick=\"convertToInteractive('df-982b2dbf-04c1-4794-9dc0-5f2f9ec986cb')\"\n",
              "            title=\"Convert this dataframe to an interactive table.\"\n",
              "            style=\"display:none;\">\n",
              "\n",
              "  <svg xmlns=\"http://www.w3.org/2000/svg\" height=\"24px\" viewBox=\"0 -960 960 960\">\n",
              "    <path d=\"M120-120v-720h720v720H120Zm60-500h600v-160H180v160Zm220 220h160v-160H400v160Zm0 220h160v-160H400v160ZM180-400h160v-160H180v160Zm440 0h160v-160H620v160ZM180-180h160v-160H180v160Zm440 0h160v-160H620v160Z\"/>\n",
              "  </svg>\n",
              "    </button>\n",
              "\n",
              "  <style>\n",
              "    .colab-df-container {\n",
              "      display:flex;\n",
              "      gap: 12px;\n",
              "    }\n",
              "\n",
              "    .colab-df-convert {\n",
              "      background-color: #E8F0FE;\n",
              "      border: none;\n",
              "      border-radius: 50%;\n",
              "      cursor: pointer;\n",
              "      display: none;\n",
              "      fill: #1967D2;\n",
              "      height: 32px;\n",
              "      padding: 0 0 0 0;\n",
              "      width: 32px;\n",
              "    }\n",
              "\n",
              "    .colab-df-convert:hover {\n",
              "      background-color: #E2EBFA;\n",
              "      box-shadow: 0px 1px 2px rgba(60, 64, 67, 0.3), 0px 1px 3px 1px rgba(60, 64, 67, 0.15);\n",
              "      fill: #174EA6;\n",
              "    }\n",
              "\n",
              "    .colab-df-buttons div {\n",
              "      margin-bottom: 4px;\n",
              "    }\n",
              "\n",
              "    [theme=dark] .colab-df-convert {\n",
              "      background-color: #3B4455;\n",
              "      fill: #D2E3FC;\n",
              "    }\n",
              "\n",
              "    [theme=dark] .colab-df-convert:hover {\n",
              "      background-color: #434B5C;\n",
              "      box-shadow: 0px 1px 3px 1px rgba(0, 0, 0, 0.15);\n",
              "      filter: drop-shadow(0px 1px 2px rgba(0, 0, 0, 0.3));\n",
              "      fill: #FFFFFF;\n",
              "    }\n",
              "  </style>\n",
              "\n",
              "    <script>\n",
              "      const buttonEl =\n",
              "        document.querySelector('#df-982b2dbf-04c1-4794-9dc0-5f2f9ec986cb button.colab-df-convert');\n",
              "      buttonEl.style.display =\n",
              "        google.colab.kernel.accessAllowed ? 'block' : 'none';\n",
              "\n",
              "      async function convertToInteractive(key) {\n",
              "        const element = document.querySelector('#df-982b2dbf-04c1-4794-9dc0-5f2f9ec986cb');\n",
              "        const dataTable =\n",
              "          await google.colab.kernel.invokeFunction('convertToInteractive',\n",
              "                                                    [key], {});\n",
              "        if (!dataTable) return;\n",
              "\n",
              "        const docLinkHtml = 'Like what you see? Visit the ' +\n",
              "          '<a target=\"_blank\" href=https://colab.research.google.com/notebooks/data_table.ipynb>data table notebook</a>'\n",
              "          + ' to learn more about interactive tables.';\n",
              "        element.innerHTML = '';\n",
              "        dataTable['output_type'] = 'display_data';\n",
              "        await google.colab.output.renderOutput(dataTable, element);\n",
              "        const docLink = document.createElement('div');\n",
              "        docLink.innerHTML = docLinkHtml;\n",
              "        element.appendChild(docLink);\n",
              "      }\n",
              "    </script>\n",
              "  </div>\n",
              "\n",
              "\n",
              "<div id=\"df-89ba26ec-170f-4025-a6e8-2d36b8c39a6f\">\n",
              "  <button class=\"colab-df-quickchart\" onclick=\"quickchart('df-89ba26ec-170f-4025-a6e8-2d36b8c39a6f')\"\n",
              "            title=\"Suggest charts\"\n",
              "            style=\"display:none;\">\n",
              "\n",
              "<svg xmlns=\"http://www.w3.org/2000/svg\" height=\"24px\"viewBox=\"0 0 24 24\"\n",
              "     width=\"24px\">\n",
              "    <g>\n",
              "        <path d=\"M19 3H5c-1.1 0-2 .9-2 2v14c0 1.1.9 2 2 2h14c1.1 0 2-.9 2-2V5c0-1.1-.9-2-2-2zM9 17H7v-7h2v7zm4 0h-2V7h2v10zm4 0h-2v-4h2v4z\"/>\n",
              "    </g>\n",
              "</svg>\n",
              "  </button>\n",
              "\n",
              "<style>\n",
              "  .colab-df-quickchart {\n",
              "      --bg-color: #E8F0FE;\n",
              "      --fill-color: #1967D2;\n",
              "      --hover-bg-color: #E2EBFA;\n",
              "      --hover-fill-color: #174EA6;\n",
              "      --disabled-fill-color: #AAA;\n",
              "      --disabled-bg-color: #DDD;\n",
              "  }\n",
              "\n",
              "  [theme=dark] .colab-df-quickchart {\n",
              "      --bg-color: #3B4455;\n",
              "      --fill-color: #D2E3FC;\n",
              "      --hover-bg-color: #434B5C;\n",
              "      --hover-fill-color: #FFFFFF;\n",
              "      --disabled-bg-color: #3B4455;\n",
              "      --disabled-fill-color: #666;\n",
              "  }\n",
              "\n",
              "  .colab-df-quickchart {\n",
              "    background-color: var(--bg-color);\n",
              "    border: none;\n",
              "    border-radius: 50%;\n",
              "    cursor: pointer;\n",
              "    display: none;\n",
              "    fill: var(--fill-color);\n",
              "    height: 32px;\n",
              "    padding: 0;\n",
              "    width: 32px;\n",
              "  }\n",
              "\n",
              "  .colab-df-quickchart:hover {\n",
              "    background-color: var(--hover-bg-color);\n",
              "    box-shadow: 0 1px 2px rgba(60, 64, 67, 0.3), 0 1px 3px 1px rgba(60, 64, 67, 0.15);\n",
              "    fill: var(--button-hover-fill-color);\n",
              "  }\n",
              "\n",
              "  .colab-df-quickchart-complete:disabled,\n",
              "  .colab-df-quickchart-complete:disabled:hover {\n",
              "    background-color: var(--disabled-bg-color);\n",
              "    fill: var(--disabled-fill-color);\n",
              "    box-shadow: none;\n",
              "  }\n",
              "\n",
              "  .colab-df-spinner {\n",
              "    border: 2px solid var(--fill-color);\n",
              "    border-color: transparent;\n",
              "    border-bottom-color: var(--fill-color);\n",
              "    animation:\n",
              "      spin 1s steps(1) infinite;\n",
              "  }\n",
              "\n",
              "  @keyframes spin {\n",
              "    0% {\n",
              "      border-color: transparent;\n",
              "      border-bottom-color: var(--fill-color);\n",
              "      border-left-color: var(--fill-color);\n",
              "    }\n",
              "    20% {\n",
              "      border-color: transparent;\n",
              "      border-left-color: var(--fill-color);\n",
              "      border-top-color: var(--fill-color);\n",
              "    }\n",
              "    30% {\n",
              "      border-color: transparent;\n",
              "      border-left-color: var(--fill-color);\n",
              "      border-top-color: var(--fill-color);\n",
              "      border-right-color: var(--fill-color);\n",
              "    }\n",
              "    40% {\n",
              "      border-color: transparent;\n",
              "      border-right-color: var(--fill-color);\n",
              "      border-top-color: var(--fill-color);\n",
              "    }\n",
              "    60% {\n",
              "      border-color: transparent;\n",
              "      border-right-color: var(--fill-color);\n",
              "    }\n",
              "    80% {\n",
              "      border-color: transparent;\n",
              "      border-right-color: var(--fill-color);\n",
              "      border-bottom-color: var(--fill-color);\n",
              "    }\n",
              "    90% {\n",
              "      border-color: transparent;\n",
              "      border-bottom-color: var(--fill-color);\n",
              "    }\n",
              "  }\n",
              "</style>\n",
              "\n",
              "  <script>\n",
              "    async function quickchart(key) {\n",
              "      const quickchartButtonEl =\n",
              "        document.querySelector('#' + key + ' button');\n",
              "      quickchartButtonEl.disabled = true;  // To prevent multiple clicks.\n",
              "      quickchartButtonEl.classList.add('colab-df-spinner');\n",
              "      try {\n",
              "        const charts = await google.colab.kernel.invokeFunction(\n",
              "            'suggestCharts', [key], {});\n",
              "      } catch (error) {\n",
              "        console.error('Error during call to suggestCharts:', error);\n",
              "      }\n",
              "      quickchartButtonEl.classList.remove('colab-df-spinner');\n",
              "      quickchartButtonEl.classList.add('colab-df-quickchart-complete');\n",
              "    }\n",
              "    (() => {\n",
              "      let quickchartButtonEl =\n",
              "        document.querySelector('#df-89ba26ec-170f-4025-a6e8-2d36b8c39a6f button');\n",
              "      quickchartButtonEl.style.display =\n",
              "        google.colab.kernel.accessAllowed ? 'block' : 'none';\n",
              "    })();\n",
              "  </script>\n",
              "</div>\n",
              "\n",
              "    </div>\n",
              "  </div>\n"
            ],
            "application/vnd.google.colaboratory.intrinsic+json": {
              "type": "dataframe",
              "variable_name": "df_clean",
              "summary": "{\n  \"name\": \"df_clean\",\n  \"rows\": 1576,\n  \"fields\": [\n    {\n      \"column\": \"age\",\n      \"properties\": {\n        \"dtype\": \"category\",\n        \"num_unique_values\": 5,\n        \"samples\": [\n          \"18 to 29 years-old\",\n          \"50 to 59 years-old\",\n          \"30 to 39 years-old\"\n        ],\n        \"semantic_type\": \"\",\n        \"description\": \"\"\n      }\n    },\n    {\n      \"column\": \"gender\",\n      \"properties\": {\n        \"dtype\": \"category\",\n        \"num_unique_values\": 3,\n        \"samples\": [\n          \"Non-binary\",\n          \"Woman\",\n          \"Man\"\n        ],\n        \"semantic_type\": \"\",\n        \"description\": \"\"\n      }\n    },\n    {\n      \"column\": \"covid_distancing\",\n      \"properties\": {\n        \"dtype\": \"category\",\n        \"num_unique_values\": 3,\n        \"samples\": [\n          \"Very Closely\",\n          \"Somewhat\",\n          \"Not at all\"\n        ],\n        \"semantic_type\": \"\",\n        \"description\": \"\"\n      }\n    },\n    {\n      \"column\": \"covid_masks\",\n      \"properties\": {\n        \"dtype\": \"category\",\n        \"num_unique_values\": 3,\n        \"samples\": [\n          \"Very Closely\",\n          \"Somewhat\",\n          \"Not at all\"\n        ],\n        \"semantic_type\": \"\",\n        \"description\": \"\"\n      }\n    },\n    {\n      \"column\": \"vaccinated\",\n      \"properties\": {\n        \"dtype\": \"category\",\n        \"num_unique_values\": 3,\n        \"samples\": [\n          \"Yes, two doses\",\n          \"Yes, one dose\",\n          \"No\"\n        ],\n        \"semantic_type\": \"\",\n        \"description\": \"\"\n      }\n    },\n    {\n      \"column\": \"self_rated_mental_health\",\n      \"properties\": {\n        \"dtype\": \"category\",\n        \"num_unique_values\": 2,\n        \"samples\": [\n          \"Negative\",\n          \"Positive\"\n        ],\n        \"semantic_type\": \"\",\n        \"description\": \"\"\n      }\n    },\n    {\n      \"column\": \"ethnicity\",\n      \"properties\": {\n        \"dtype\": \"category\",\n        \"num_unique_values\": 6,\n        \"samples\": [\n          \"African, Caribbean, or Black \",\n          \"Middle Eastern\"\n        ],\n        \"semantic_type\": \"\",\n        \"description\": \"\"\n      }\n    },\n    {\n      \"column\": \"hours\",\n      \"properties\": {\n        \"dtype\": \"number\",\n        \"std\": 16.815350496127937,\n        \"min\": 2.0,\n        \"max\": 80.0,\n        \"num_unique_values\": 60,\n        \"samples\": [\n          10.0,\n          8.0\n        ],\n        \"semantic_type\": \"\",\n        \"description\": \"\"\n      }\n    },\n    {\n      \"column\": \"occupation\",\n      \"properties\": {\n        \"dtype\": \"category\",\n        \"num_unique_values\": 10,\n        \"samples\": [\n          \"Manufacturing and utilities\",\n          \"Management\"\n        ],\n        \"semantic_type\": \"\",\n        \"description\": \"\"\n      }\n    },\n    {\n      \"column\": \"work_from_home\",\n      \"properties\": {\n        \"dtype\": \"category\",\n        \"num_unique_values\": 3,\n        \"samples\": [\n          \"Hybrid\",\n          \"Work from Home Only\"\n        ],\n        \"semantic_type\": \"\",\n        \"description\": \"\"\n      }\n    },\n    {\n      \"column\": \"income\",\n      \"properties\": {\n        \"dtype\": \"category\",\n        \"num_unique_values\": 4,\n        \"samples\": [\n          \"Less than $30,000\",\n          \"$90,000 or more\"\n        ],\n        \"semantic_type\": \"\",\n        \"description\": \"\"\n      }\n    },\n    {\n      \"column\": \"educational_attainment\",\n      \"properties\": {\n        \"dtype\": \"category\",\n        \"num_unique_values\": 3,\n        \"samples\": [\n          \"Bachelor's Degree or Higher\",\n          \"Some College\"\n        ],\n        \"semantic_type\": \"\",\n        \"description\": \"\"\n      }\n    }\n  ]\n}"
            }
          },
          "metadata": {},
          "execution_count": 5
        }
      ]
    },
    {
      "cell_type": "code",
      "source": [
        "# Splitting columns into ones to one-hot encode versus label encode\n",
        "# (nominal -> there's no ranking or natural order VS ordinal -> there is an order or natural ranking)\n",
        "nominal_cols = ['gender', 'self_rated_mental_health', 'ethnicity', 'occupation', 'work_from_home']\n",
        "ordinal_cols = ['age','covid_distancing', 'covid_masks', 'vaccinated', 'income', 'educational_attainment']\n",
        "\n",
        "# One Hot Encoding Nominal:\n",
        "\n",
        "# Encoding nominal_cols using One-Hot-Encoding\n",
        "df_encoded = pd.get_dummies(df_clean, columns = nominal_cols)\n",
        "\n",
        "# Label Encoding Ordinal:\n",
        "\n",
        "# Custom orders for each column\n",
        "custom_orders = [\n",
        "    ['18 to 29 years-old', '30 to 39 years-old', '40 to 49 years-old', '50 to 59 years-old', '60 years and older'],  # 'Order for \"age\"\n",
        "    ['Not at all', 'Somewhat', 'Very Closely'],   # Order for \"covid_distancing\"\n",
        "    ['Not at all', 'Somewhat', 'Very Closely'],   # Order for \"covid_masks\"\n",
        "    ['No', 'Yes, one dose', 'Yes, two doses'],   # Order for \"vaccinated\"\n",
        "    ['Less than $30,000', '$30,000 to $59,999', '$60,000 to $89,999', '$90,000 or more'],    # Order for \"income\"\n",
        "    ['High School Diploma or Lower', 'Some College', \"Bachelor's Degree or Higher\"],    # Order for \"educational_attainment\"\n",
        "]\n",
        "\n",
        "# Apply OrdinalEncoder with custom orders\n",
        "encoder = OrdinalEncoder(categories=custom_orders)\n",
        "encoded_ordinal_cols = encoder.fit_transform(df_encoded[ordinal_cols])\n",
        "\n",
        "# Add the encoded columns to the DataFrame\n",
        "df_encoded[ordinal_cols] = encoded_ordinal_cols\n",
        "\n",
        "# Check the assigned values for each column\n",
        "for col, categories in zip(df_encoded[ordinal_cols], encoder.categories_):\n",
        "    print(f\"\\nMappings for '{col}':\")\n",
        "    for idx, category in enumerate(categories):\n",
        "        print(f\"  {category}: {idx}\")\n",
        "\n",
        "# Dropping 'self_rated_mental_health_Positive' since it is the opposite of our target/duplicate from encoding\n",
        "df_encoded = df_encoded.drop(columns='self_rated_mental_health_Negative')\n",
        "\n",
        "# Viewing encoded data\n",
        "print(\" \")\n",
        "df_encoded.info()\n",
        "print(\" \")\n",
        "df_encoded.head()\n",
        "# add male column\n",
        "#class weights parameter lower gamma\n"
      ],
      "metadata": {
        "colab": {
          "base_uri": "https://localhost:8080/",
          "height": 1000
        },
        "id": "wGKEHObRUf_K",
        "outputId": "fc2f63d8-4b3d-417e-8408-fcb8d118522c"
      },
      "execution_count": null,
      "outputs": [
        {
          "output_type": "stream",
          "name": "stdout",
          "text": [
            "\n",
            "Mappings for 'age':\n",
            "  18 to 29 years-old: 0\n",
            "  30 to 39 years-old: 1\n",
            "  40 to 49 years-old: 2\n",
            "  50 to 59 years-old: 3\n",
            "  60 years and older: 4\n",
            "\n",
            "Mappings for 'covid_distancing':\n",
            "  Not at all: 0\n",
            "  Somewhat: 1\n",
            "  Very Closely: 2\n",
            "\n",
            "Mappings for 'covid_masks':\n",
            "  Not at all: 0\n",
            "  Somewhat: 1\n",
            "  Very Closely: 2\n",
            "\n",
            "Mappings for 'vaccinated':\n",
            "  No: 0\n",
            "  Yes, one dose: 1\n",
            "  Yes, two doses: 2\n",
            "\n",
            "Mappings for 'income':\n",
            "  Less than $30,000: 0\n",
            "  $30,000 to $59,999: 1\n",
            "  $60,000 to $89,999: 2\n",
            "  $90,000 or more: 3\n",
            "\n",
            "Mappings for 'educational_attainment':\n",
            "  High School Diploma or Lower: 0\n",
            "  Some College: 1\n",
            "  Bachelor's Degree or Higher: 2\n",
            " \n",
            "<class 'pandas.core.frame.DataFrame'>\n",
            "RangeIndex: 1576 entries, 0 to 1575\n",
            "Data columns (total 30 columns):\n",
            " #   Column                                                                    Non-Null Count  Dtype  \n",
            "---  ------                                                                    --------------  -----  \n",
            " 0   age                                                                       1576 non-null   float64\n",
            " 1   covid_distancing                                                          1576 non-null   float64\n",
            " 2   covid_masks                                                               1576 non-null   float64\n",
            " 3   vaccinated                                                                1576 non-null   float64\n",
            " 4   hours                                                                     1576 non-null   float64\n",
            " 5   income                                                                    1576 non-null   float64\n",
            " 6   educational_attainment                                                    1576 non-null   float64\n",
            " 7   gender_Man                                                                1576 non-null   bool   \n",
            " 8   gender_Non-binary                                                         1576 non-null   bool   \n",
            " 9   gender_Woman                                                              1576 non-null   bool   \n",
            " 10  self_rated_mental_health_Positive                                         1576 non-null   bool   \n",
            " 11  ethnicity_African, Caribbean, or Black                                    1576 non-null   bool   \n",
            " 12  ethnicity_Asian                                                           1576 non-null   bool   \n",
            " 13  ethnicity_Indigenous                                                      1576 non-null   bool   \n",
            " 14  ethnicity_Middle Eastern                                                  1576 non-null   bool   \n",
            " 15  ethnicity_Other                                                           1576 non-null   bool   \n",
            " 16  ethnicity_White                                                           1576 non-null   bool   \n",
            " 17  occupation_Business                                                       1576 non-null   bool   \n",
            " 18  occupation_Health                                                         1576 non-null   bool   \n",
            " 19  occupation_Management                                                     1576 non-null   bool   \n",
            " 20  occupation_Manufacturing and utilities                                    1576 non-null   bool   \n",
            " 21  occupation_Natural and applied sciences                                   1576 non-null   bool   \n",
            " 22  occupation_Natural resources and agriculture                              1576 non-null   bool   \n",
            " 23  occupation_Sales and service                                              1576 non-null   bool   \n",
            " 24  occupation_Trades, transport and equipment operators                      1576 non-null   bool   \n",
            " 25  occupation_art, culture, recreation and sport                             1576 non-null   bool   \n",
            " 26  occupation_education, law and social, community, and government services  1576 non-null   bool   \n",
            " 27  work_from_home_Do Not Work from Home                                      1576 non-null   bool   \n",
            " 28  work_from_home_Hybrid                                                     1576 non-null   bool   \n",
            " 29  work_from_home_Work from Home Only                                        1576 non-null   bool   \n",
            "dtypes: bool(23), float64(7)\n",
            "memory usage: 121.7 KB\n",
            " \n"
          ]
        },
        {
          "output_type": "execute_result",
          "data": {
            "text/plain": [
              "   age  covid_distancing  covid_masks  vaccinated  hours  income  \\\n",
              "0  2.0               2.0          2.0         2.0   10.0     2.0   \n",
              "1  0.0               1.0          2.0         1.0    6.0     0.0   \n",
              "2  1.0               1.0          1.0         1.0    2.0     0.0   \n",
              "3  4.0               1.0          2.0         2.0   40.0     1.0   \n",
              "4  1.0               1.0          0.0         0.0    7.0     1.0   \n",
              "\n",
              "   educational_attainment  gender_Man  gender_Non-binary  gender_Woman  ...  \\\n",
              "0                     2.0       False               True         False  ...   \n",
              "1                     1.0       False              False          True  ...   \n",
              "2                     2.0        True              False         False  ...   \n",
              "3                     2.0       False              False          True  ...   \n",
              "4                     2.0        True              False         False  ...   \n",
              "\n",
              "   occupation_Manufacturing and utilities  \\\n",
              "0                                   False   \n",
              "1                                   False   \n",
              "2                                   False   \n",
              "3                                   False   \n",
              "4                                   False   \n",
              "\n",
              "   occupation_Natural and applied sciences  \\\n",
              "0                                    False   \n",
              "1                                    False   \n",
              "2                                    False   \n",
              "3                                    False   \n",
              "4                                    False   \n",
              "\n",
              "   occupation_Natural resources and agriculture  occupation_Sales and service  \\\n",
              "0                                         False                         False   \n",
              "1                                         False                         False   \n",
              "2                                         False                         False   \n",
              "3                                         False                         False   \n",
              "4                                         False                         False   \n",
              "\n",
              "   occupation_Trades, transport and equipment operators  \\\n",
              "0                                              False      \n",
              "1                                              False      \n",
              "2                                              False      \n",
              "3                                              False      \n",
              "4                                              False      \n",
              "\n",
              "   occupation_art, culture, recreation and sport  \\\n",
              "0                                          False   \n",
              "1                                          False   \n",
              "2                                          False   \n",
              "3                                          False   \n",
              "4                                          False   \n",
              "\n",
              "   occupation_education, law and social, community, and government services  \\\n",
              "0                                               True                          \n",
              "1                                              False                          \n",
              "2                                              False                          \n",
              "3                                              False                          \n",
              "4                                              False                          \n",
              "\n",
              "   work_from_home_Do Not Work from Home  work_from_home_Hybrid  \\\n",
              "0                                 False                   True   \n",
              "1                                 False                   True   \n",
              "2                                 False                   True   \n",
              "3                                 False                   True   \n",
              "4                                 False                   True   \n",
              "\n",
              "   work_from_home_Work from Home Only  \n",
              "0                               False  \n",
              "1                               False  \n",
              "2                               False  \n",
              "3                               False  \n",
              "4                               False  \n",
              "\n",
              "[5 rows x 30 columns]"
            ],
            "text/html": [
              "\n",
              "  <div id=\"df-592c141e-cb60-41e8-b834-f61987be0a36\" class=\"colab-df-container\">\n",
              "    <div>\n",
              "<style scoped>\n",
              "    .dataframe tbody tr th:only-of-type {\n",
              "        vertical-align: middle;\n",
              "    }\n",
              "\n",
              "    .dataframe tbody tr th {\n",
              "        vertical-align: top;\n",
              "    }\n",
              "\n",
              "    .dataframe thead th {\n",
              "        text-align: right;\n",
              "    }\n",
              "</style>\n",
              "<table border=\"1\" class=\"dataframe\">\n",
              "  <thead>\n",
              "    <tr style=\"text-align: right;\">\n",
              "      <th></th>\n",
              "      <th>age</th>\n",
              "      <th>covid_distancing</th>\n",
              "      <th>covid_masks</th>\n",
              "      <th>vaccinated</th>\n",
              "      <th>hours</th>\n",
              "      <th>income</th>\n",
              "      <th>educational_attainment</th>\n",
              "      <th>gender_Man</th>\n",
              "      <th>gender_Non-binary</th>\n",
              "      <th>gender_Woman</th>\n",
              "      <th>...</th>\n",
              "      <th>occupation_Manufacturing and utilities</th>\n",
              "      <th>occupation_Natural and applied sciences</th>\n",
              "      <th>occupation_Natural resources and agriculture</th>\n",
              "      <th>occupation_Sales and service</th>\n",
              "      <th>occupation_Trades, transport and equipment operators</th>\n",
              "      <th>occupation_art, culture, recreation and sport</th>\n",
              "      <th>occupation_education, law and social, community, and government services</th>\n",
              "      <th>work_from_home_Do Not Work from Home</th>\n",
              "      <th>work_from_home_Hybrid</th>\n",
              "      <th>work_from_home_Work from Home Only</th>\n",
              "    </tr>\n",
              "  </thead>\n",
              "  <tbody>\n",
              "    <tr>\n",
              "      <th>0</th>\n",
              "      <td>2.0</td>\n",
              "      <td>2.0</td>\n",
              "      <td>2.0</td>\n",
              "      <td>2.0</td>\n",
              "      <td>10.0</td>\n",
              "      <td>2.0</td>\n",
              "      <td>2.0</td>\n",
              "      <td>False</td>\n",
              "      <td>True</td>\n",
              "      <td>False</td>\n",
              "      <td>...</td>\n",
              "      <td>False</td>\n",
              "      <td>False</td>\n",
              "      <td>False</td>\n",
              "      <td>False</td>\n",
              "      <td>False</td>\n",
              "      <td>False</td>\n",
              "      <td>True</td>\n",
              "      <td>False</td>\n",
              "      <td>True</td>\n",
              "      <td>False</td>\n",
              "    </tr>\n",
              "    <tr>\n",
              "      <th>1</th>\n",
              "      <td>0.0</td>\n",
              "      <td>1.0</td>\n",
              "      <td>2.0</td>\n",
              "      <td>1.0</td>\n",
              "      <td>6.0</td>\n",
              "      <td>0.0</td>\n",
              "      <td>1.0</td>\n",
              "      <td>False</td>\n",
              "      <td>False</td>\n",
              "      <td>True</td>\n",
              "      <td>...</td>\n",
              "      <td>False</td>\n",
              "      <td>False</td>\n",
              "      <td>False</td>\n",
              "      <td>False</td>\n",
              "      <td>False</td>\n",
              "      <td>False</td>\n",
              "      <td>False</td>\n",
              "      <td>False</td>\n",
              "      <td>True</td>\n",
              "      <td>False</td>\n",
              "    </tr>\n",
              "    <tr>\n",
              "      <th>2</th>\n",
              "      <td>1.0</td>\n",
              "      <td>1.0</td>\n",
              "      <td>1.0</td>\n",
              "      <td>1.0</td>\n",
              "      <td>2.0</td>\n",
              "      <td>0.0</td>\n",
              "      <td>2.0</td>\n",
              "      <td>True</td>\n",
              "      <td>False</td>\n",
              "      <td>False</td>\n",
              "      <td>...</td>\n",
              "      <td>False</td>\n",
              "      <td>False</td>\n",
              "      <td>False</td>\n",
              "      <td>False</td>\n",
              "      <td>False</td>\n",
              "      <td>False</td>\n",
              "      <td>False</td>\n",
              "      <td>False</td>\n",
              "      <td>True</td>\n",
              "      <td>False</td>\n",
              "    </tr>\n",
              "    <tr>\n",
              "      <th>3</th>\n",
              "      <td>4.0</td>\n",
              "      <td>1.0</td>\n",
              "      <td>2.0</td>\n",
              "      <td>2.0</td>\n",
              "      <td>40.0</td>\n",
              "      <td>1.0</td>\n",
              "      <td>2.0</td>\n",
              "      <td>False</td>\n",
              "      <td>False</td>\n",
              "      <td>True</td>\n",
              "      <td>...</td>\n",
              "      <td>False</td>\n",
              "      <td>False</td>\n",
              "      <td>False</td>\n",
              "      <td>False</td>\n",
              "      <td>False</td>\n",
              "      <td>False</td>\n",
              "      <td>False</td>\n",
              "      <td>False</td>\n",
              "      <td>True</td>\n",
              "      <td>False</td>\n",
              "    </tr>\n",
              "    <tr>\n",
              "      <th>4</th>\n",
              "      <td>1.0</td>\n",
              "      <td>1.0</td>\n",
              "      <td>0.0</td>\n",
              "      <td>0.0</td>\n",
              "      <td>7.0</td>\n",
              "      <td>1.0</td>\n",
              "      <td>2.0</td>\n",
              "      <td>True</td>\n",
              "      <td>False</td>\n",
              "      <td>False</td>\n",
              "      <td>...</td>\n",
              "      <td>False</td>\n",
              "      <td>False</td>\n",
              "      <td>False</td>\n",
              "      <td>False</td>\n",
              "      <td>False</td>\n",
              "      <td>False</td>\n",
              "      <td>False</td>\n",
              "      <td>False</td>\n",
              "      <td>True</td>\n",
              "      <td>False</td>\n",
              "    </tr>\n",
              "  </tbody>\n",
              "</table>\n",
              "<p>5 rows × 30 columns</p>\n",
              "</div>\n",
              "    <div class=\"colab-df-buttons\">\n",
              "\n",
              "  <div class=\"colab-df-container\">\n",
              "    <button class=\"colab-df-convert\" onclick=\"convertToInteractive('df-592c141e-cb60-41e8-b834-f61987be0a36')\"\n",
              "            title=\"Convert this dataframe to an interactive table.\"\n",
              "            style=\"display:none;\">\n",
              "\n",
              "  <svg xmlns=\"http://www.w3.org/2000/svg\" height=\"24px\" viewBox=\"0 -960 960 960\">\n",
              "    <path d=\"M120-120v-720h720v720H120Zm60-500h600v-160H180v160Zm220 220h160v-160H400v160Zm0 220h160v-160H400v160ZM180-400h160v-160H180v160Zm440 0h160v-160H620v160ZM180-180h160v-160H180v160Zm440 0h160v-160H620v160Z\"/>\n",
              "  </svg>\n",
              "    </button>\n",
              "\n",
              "  <style>\n",
              "    .colab-df-container {\n",
              "      display:flex;\n",
              "      gap: 12px;\n",
              "    }\n",
              "\n",
              "    .colab-df-convert {\n",
              "      background-color: #E8F0FE;\n",
              "      border: none;\n",
              "      border-radius: 50%;\n",
              "      cursor: pointer;\n",
              "      display: none;\n",
              "      fill: #1967D2;\n",
              "      height: 32px;\n",
              "      padding: 0 0 0 0;\n",
              "      width: 32px;\n",
              "    }\n",
              "\n",
              "    .colab-df-convert:hover {\n",
              "      background-color: #E2EBFA;\n",
              "      box-shadow: 0px 1px 2px rgba(60, 64, 67, 0.3), 0px 1px 3px 1px rgba(60, 64, 67, 0.15);\n",
              "      fill: #174EA6;\n",
              "    }\n",
              "\n",
              "    .colab-df-buttons div {\n",
              "      margin-bottom: 4px;\n",
              "    }\n",
              "\n",
              "    [theme=dark] .colab-df-convert {\n",
              "      background-color: #3B4455;\n",
              "      fill: #D2E3FC;\n",
              "    }\n",
              "\n",
              "    [theme=dark] .colab-df-convert:hover {\n",
              "      background-color: #434B5C;\n",
              "      box-shadow: 0px 1px 3px 1px rgba(0, 0, 0, 0.15);\n",
              "      filter: drop-shadow(0px 1px 2px rgba(0, 0, 0, 0.3));\n",
              "      fill: #FFFFFF;\n",
              "    }\n",
              "  </style>\n",
              "\n",
              "    <script>\n",
              "      const buttonEl =\n",
              "        document.querySelector('#df-592c141e-cb60-41e8-b834-f61987be0a36 button.colab-df-convert');\n",
              "      buttonEl.style.display =\n",
              "        google.colab.kernel.accessAllowed ? 'block' : 'none';\n",
              "\n",
              "      async function convertToInteractive(key) {\n",
              "        const element = document.querySelector('#df-592c141e-cb60-41e8-b834-f61987be0a36');\n",
              "        const dataTable =\n",
              "          await google.colab.kernel.invokeFunction('convertToInteractive',\n",
              "                                                    [key], {});\n",
              "        if (!dataTable) return;\n",
              "\n",
              "        const docLinkHtml = 'Like what you see? Visit the ' +\n",
              "          '<a target=\"_blank\" href=https://colab.research.google.com/notebooks/data_table.ipynb>data table notebook</a>'\n",
              "          + ' to learn more about interactive tables.';\n",
              "        element.innerHTML = '';\n",
              "        dataTable['output_type'] = 'display_data';\n",
              "        await google.colab.output.renderOutput(dataTable, element);\n",
              "        const docLink = document.createElement('div');\n",
              "        docLink.innerHTML = docLinkHtml;\n",
              "        element.appendChild(docLink);\n",
              "      }\n",
              "    </script>\n",
              "  </div>\n",
              "\n",
              "\n",
              "<div id=\"df-4c6680d4-80ff-4128-9f62-edfc9b90dc8b\">\n",
              "  <button class=\"colab-df-quickchart\" onclick=\"quickchart('df-4c6680d4-80ff-4128-9f62-edfc9b90dc8b')\"\n",
              "            title=\"Suggest charts\"\n",
              "            style=\"display:none;\">\n",
              "\n",
              "<svg xmlns=\"http://www.w3.org/2000/svg\" height=\"24px\"viewBox=\"0 0 24 24\"\n",
              "     width=\"24px\">\n",
              "    <g>\n",
              "        <path d=\"M19 3H5c-1.1 0-2 .9-2 2v14c0 1.1.9 2 2 2h14c1.1 0 2-.9 2-2V5c0-1.1-.9-2-2-2zM9 17H7v-7h2v7zm4 0h-2V7h2v10zm4 0h-2v-4h2v4z\"/>\n",
              "    </g>\n",
              "</svg>\n",
              "  </button>\n",
              "\n",
              "<style>\n",
              "  .colab-df-quickchart {\n",
              "      --bg-color: #E8F0FE;\n",
              "      --fill-color: #1967D2;\n",
              "      --hover-bg-color: #E2EBFA;\n",
              "      --hover-fill-color: #174EA6;\n",
              "      --disabled-fill-color: #AAA;\n",
              "      --disabled-bg-color: #DDD;\n",
              "  }\n",
              "\n",
              "  [theme=dark] .colab-df-quickchart {\n",
              "      --bg-color: #3B4455;\n",
              "      --fill-color: #D2E3FC;\n",
              "      --hover-bg-color: #434B5C;\n",
              "      --hover-fill-color: #FFFFFF;\n",
              "      --disabled-bg-color: #3B4455;\n",
              "      --disabled-fill-color: #666;\n",
              "  }\n",
              "\n",
              "  .colab-df-quickchart {\n",
              "    background-color: var(--bg-color);\n",
              "    border: none;\n",
              "    border-radius: 50%;\n",
              "    cursor: pointer;\n",
              "    display: none;\n",
              "    fill: var(--fill-color);\n",
              "    height: 32px;\n",
              "    padding: 0;\n",
              "    width: 32px;\n",
              "  }\n",
              "\n",
              "  .colab-df-quickchart:hover {\n",
              "    background-color: var(--hover-bg-color);\n",
              "    box-shadow: 0 1px 2px rgba(60, 64, 67, 0.3), 0 1px 3px 1px rgba(60, 64, 67, 0.15);\n",
              "    fill: var(--button-hover-fill-color);\n",
              "  }\n",
              "\n",
              "  .colab-df-quickchart-complete:disabled,\n",
              "  .colab-df-quickchart-complete:disabled:hover {\n",
              "    background-color: var(--disabled-bg-color);\n",
              "    fill: var(--disabled-fill-color);\n",
              "    box-shadow: none;\n",
              "  }\n",
              "\n",
              "  .colab-df-spinner {\n",
              "    border: 2px solid var(--fill-color);\n",
              "    border-color: transparent;\n",
              "    border-bottom-color: var(--fill-color);\n",
              "    animation:\n",
              "      spin 1s steps(1) infinite;\n",
              "  }\n",
              "\n",
              "  @keyframes spin {\n",
              "    0% {\n",
              "      border-color: transparent;\n",
              "      border-bottom-color: var(--fill-color);\n",
              "      border-left-color: var(--fill-color);\n",
              "    }\n",
              "    20% {\n",
              "      border-color: transparent;\n",
              "      border-left-color: var(--fill-color);\n",
              "      border-top-color: var(--fill-color);\n",
              "    }\n",
              "    30% {\n",
              "      border-color: transparent;\n",
              "      border-left-color: var(--fill-color);\n",
              "      border-top-color: var(--fill-color);\n",
              "      border-right-color: var(--fill-color);\n",
              "    }\n",
              "    40% {\n",
              "      border-color: transparent;\n",
              "      border-right-color: var(--fill-color);\n",
              "      border-top-color: var(--fill-color);\n",
              "    }\n",
              "    60% {\n",
              "      border-color: transparent;\n",
              "      border-right-color: var(--fill-color);\n",
              "    }\n",
              "    80% {\n",
              "      border-color: transparent;\n",
              "      border-right-color: var(--fill-color);\n",
              "      border-bottom-color: var(--fill-color);\n",
              "    }\n",
              "    90% {\n",
              "      border-color: transparent;\n",
              "      border-bottom-color: var(--fill-color);\n",
              "    }\n",
              "  }\n",
              "</style>\n",
              "\n",
              "  <script>\n",
              "    async function quickchart(key) {\n",
              "      const quickchartButtonEl =\n",
              "        document.querySelector('#' + key + ' button');\n",
              "      quickchartButtonEl.disabled = true;  // To prevent multiple clicks.\n",
              "      quickchartButtonEl.classList.add('colab-df-spinner');\n",
              "      try {\n",
              "        const charts = await google.colab.kernel.invokeFunction(\n",
              "            'suggestCharts', [key], {});\n",
              "      } catch (error) {\n",
              "        console.error('Error during call to suggestCharts:', error);\n",
              "      }\n",
              "      quickchartButtonEl.classList.remove('colab-df-spinner');\n",
              "      quickchartButtonEl.classList.add('colab-df-quickchart-complete');\n",
              "    }\n",
              "    (() => {\n",
              "      let quickchartButtonEl =\n",
              "        document.querySelector('#df-4c6680d4-80ff-4128-9f62-edfc9b90dc8b button');\n",
              "      quickchartButtonEl.style.display =\n",
              "        google.colab.kernel.accessAllowed ? 'block' : 'none';\n",
              "    })();\n",
              "  </script>\n",
              "</div>\n",
              "\n",
              "    </div>\n",
              "  </div>\n"
            ],
            "application/vnd.google.colaboratory.intrinsic+json": {
              "type": "dataframe"
            }
          },
          "metadata": {},
          "execution_count": 6
        }
      ]
    },
    {
      "cell_type": "markdown",
      "source": [
        "#Data Setup for Models. (Without SMOTE)."
      ],
      "metadata": {
        "id": "xrQDiyilTPA0"
      }
    },
    {
      "cell_type": "markdown",
      "source": [
        "###Train / Test Split."
      ],
      "metadata": {
        "id": "nrMn-Xky1KaG"
      }
    },
    {
      "cell_type": "code",
      "source": [
        "# Train/Test Splitting\n",
        "from sklearn.model_selection import train_test_split\n",
        "\n",
        "# Setting target to our target column -> 'self_rated_mental_health_Negative'\n",
        "target = ('self_rated_mental_health_Positive')\n",
        "\n",
        "# Define features (X) and target (y)\n",
        "X = df_encoded.drop(columns=[target])  # Features\n",
        "y = df_encoded[target]  # Target variable\n",
        "\n",
        "X_train, X_test, y_train, y_test = train_test_split(X, y, test_size=0.2, random_state=42)\n",
        "\n",
        "# Then import the model you want to try, and fit model here!"
      ],
      "metadata": {
        "id": "5154IUX6Tmo1"
      },
      "execution_count": null,
      "outputs": []
    },
    {
      "cell_type": "markdown",
      "source": [
        "### SVM Model (Linear)."
      ],
      "metadata": {
        "id": "JtSbzJn31N2h"
      }
    },
    {
      "cell_type": "code",
      "source": [
        "from sklearn.svm import SVC\n",
        "from sklearn.metrics import accuracy_score, classification_report, confusion_matrix\n",
        "\n",
        "# Split dataset into training and testing sets (80% training, 20% testing)\n",
        "X_train, X_test, y_train, y_test = train_test_split(X, y, test_size=0.2, random_state=42)\n",
        "\n",
        "# Create an SVM model (using a linear kernel)\n",
        "svm_model = SVC(kernel='linear')\n",
        "\n",
        "# Train the model\n",
        "svm_model.fit(X_train, y_train)\n",
        "\n",
        "# Make predictions on the test set\n",
        "y_pred = svm_model.predict(X_test)\n",
        "\n",
        "# Evaluate model performance\n",
        "accuracy = accuracy_score(y_test, y_pred)\n",
        "conf_matrix = confusion_matrix(y_test, y_pred)\n",
        "class_report = classification_report(y_test, y_pred)\n",
        "\n",
        "# Calculate accuracy\n",
        "accuracy = accuracy_score(y_test, y_pred)\n",
        "print(f\"Model accuracy: {accuracy:.2f}\")\n",
        "print(\"Confusion Matrix:\\n\", conf_matrix)\n",
        "print(\"Classification Report:\\n\", class_report)"
      ],
      "metadata": {
        "id": "N9fgt0B4fZUT",
        "colab": {
          "base_uri": "https://localhost:8080/"
        },
        "outputId": "97ee9381-f94b-4589-bef5-862984cf5550"
      },
      "execution_count": null,
      "outputs": [
        {
          "output_type": "stream",
          "name": "stdout",
          "text": [
            "Model accuracy: 0.81\n",
            "Confusion Matrix:\n",
            " [[  0  60]\n",
            " [  0 256]]\n",
            "Classification Report:\n",
            "               precision    recall  f1-score   support\n",
            "\n",
            "       False       0.00      0.00      0.00        60\n",
            "        True       0.81      1.00      0.90       256\n",
            "\n",
            "    accuracy                           0.81       316\n",
            "   macro avg       0.41      0.50      0.45       316\n",
            "weighted avg       0.66      0.81      0.73       316\n",
            "\n"
          ]
        },
        {
          "output_type": "stream",
          "name": "stderr",
          "text": [
            "/usr/local/lib/python3.11/dist-packages/sklearn/metrics/_classification.py:1565: UndefinedMetricWarning: Precision is ill-defined and being set to 0.0 in labels with no predicted samples. Use `zero_division` parameter to control this behavior.\n",
            "  _warn_prf(average, modifier, f\"{metric.capitalize()} is\", len(result))\n",
            "/usr/local/lib/python3.11/dist-packages/sklearn/metrics/_classification.py:1565: UndefinedMetricWarning: Precision is ill-defined and being set to 0.0 in labels with no predicted samples. Use `zero_division` parameter to control this behavior.\n",
            "  _warn_prf(average, modifier, f\"{metric.capitalize()} is\", len(result))\n",
            "/usr/local/lib/python3.11/dist-packages/sklearn/metrics/_classification.py:1565: UndefinedMetricWarning: Precision is ill-defined and being set to 0.0 in labels with no predicted samples. Use `zero_division` parameter to control this behavior.\n",
            "  _warn_prf(average, modifier, f\"{metric.capitalize()} is\", len(result))\n"
          ]
        }
      ]
    },
    {
      "cell_type": "markdown",
      "source": [
        "### SVM Model (RBF)."
      ],
      "metadata": {
        "id": "O4swDpXc1Tjf"
      }
    },
    {
      "cell_type": "code",
      "source": [
        "# SVM Using RBF Kernel\n",
        "from sklearn.svm import SVC\n",
        "from sklearn.metrics import accuracy_score, classification_report, confusion_matrix\n",
        "\n",
        "# Split dataset into training and testing sets (80% training, 20% testing)\n",
        "#X_train, X_test, y_train, y_test = train_test_split(X, y, test_size=0.2, random_state=42)\n",
        "\n",
        "# Create an SVM model (using a linear kernel)\n",
        "svm_rbf_model = SVC(kernel='rbf', gamma =0.5)\n",
        "\n",
        "# Train the model\n",
        "svm_rbf_model.fit(X_train, y_train)\n",
        "\n",
        "# Make predictions on the test set\n",
        "y_pred = svm_rbf_model.predict(X_test)\n",
        "\n",
        "# Evaluate model performance\n",
        "accuracy = accuracy_score(y_test, y_pred)\n",
        "conf_matrix = confusion_matrix(y_test, y_pred)\n",
        "class_report = classification_report(y_test, y_pred)\n",
        "\n",
        "# Calculate accuracy\n",
        "print(\"SVM Model. RBF Kernel\")\n",
        "accuracy = accuracy_score(y_test, y_pred)\n",
        "print(f\"Model accuracy: {accuracy:.2f}\")\n",
        "print(\"Confusion Matrix:\\n\", conf_matrix)\n",
        "print(\"Classification Report:\\n\", class_report)"
      ],
      "metadata": {
        "colab": {
          "base_uri": "https://localhost:8080/"
        },
        "id": "HZpH2EJ20lQK",
        "outputId": "de54044b-e672-4ab6-9c57-8a401a8bc331"
      },
      "execution_count": null,
      "outputs": [
        {
          "output_type": "stream",
          "name": "stdout",
          "text": [
            "SVM Model. RBF Kernel\n",
            "Model accuracy: 0.81\n",
            "Confusion Matrix:\n",
            " [[  3  58]\n",
            " [  2 253]]\n",
            "Classification Report:\n",
            "               precision    recall  f1-score   support\n",
            "\n",
            "       False       0.60      0.05      0.09        61\n",
            "        True       0.81      0.99      0.89       255\n",
            "\n",
            "    accuracy                           0.81       316\n",
            "   macro avg       0.71      0.52      0.49       316\n",
            "weighted avg       0.77      0.81      0.74       316\n",
            "\n"
          ]
        }
      ]
    },
    {
      "cell_type": "code",
      "source": [
        "from matplotlib.colors import LinearSegmentedColormap\n",
        "\n",
        "# Compute confusion matrix\n",
        "cm = conf_matrix\n",
        "classes = ['Negative', 'Positive']  # Adjust class labels as needed\n",
        "\n",
        "# Define a gradient colormap with two hex colors\n",
        "color1 = \"#E5A87F\"  # Light green\n",
        "color2 = \"#8A4539\"  # Dark green\n",
        "custom_cmap = LinearSegmentedColormap.from_list(\"custom_cmap\", [color1, color2])\n",
        "\n",
        "# Plot confusion matrix\n",
        "plt.figure(figsize=(6, 5))\n",
        "plt.imshow(cm, interpolation='nearest', cmap=custom_cmap)\n",
        "plt.colorbar()\n",
        "\n",
        "# Add labels\n",
        "tick_marks = np.arange(len(classes))\n",
        "plt.xticks(tick_marks, classes)\n",
        "plt.yticks(tick_marks, classes)\n",
        "\n",
        "# Add text annotations\n",
        "for i in range(cm.shape[0]):\n",
        "    for j in range(cm.shape[1]):\n",
        "        plt.text(j, i, str(cm[i, j]), ha='center', va='center', color='black', fontsize=20)\n",
        "\n",
        "plt.xlabel('Predicted Label')\n",
        "plt.ylabel('True Label')\n",
        "plt.title('Confusion Matrix')\n",
        "plt.show()"
      ],
      "metadata": {
        "id": "DhFyREE2ubnw",
        "outputId": "b1d4e8c7-a895-45db-b041-4adf397c8a68",
        "colab": {
          "base_uri": "https://localhost:8080/",
          "height": 474
        }
      },
      "execution_count": null,
      "outputs": [
        {
          "output_type": "display_data",
          "data": {
            "text/plain": [
              "<Figure size 600x500 with 2 Axes>"
            ],
            "image/png": "[encoded data removed]"
          },
          "metadata": {}
        }
      ]
    },
    {
      "cell_type": "markdown",
      "source": [
        "# SMOTE."
      ],
      "metadata": {
        "id": "0Dz3OC-fSuHE"
      }
    },
    {
      "cell_type": "markdown",
      "source": [
        "###Imports for SMOTE."
      ],
      "metadata": {
        "id": "qME1iX8fS8ev"
      }
    },
    {
      "cell_type": "code",
      "source": [
        "from imblearn.over_sampling import SMOTE\n",
        "from sklearn.model_selection import train_test_split\n",
        "from collections import Counter"
      ],
      "metadata": {
        "id": "Qu-7ziOlS-0Z"
      },
      "execution_count": null,
      "outputs": []
    },
    {
      "cell_type": "markdown",
      "source": [
        "###Creating Train SMOTE."
      ],
      "metadata": {
        "id": "3CdYtdgBUY4K"
      }
    },
    {
      "cell_type": "code",
      "source": [
        "# Setting target to our target column -> 'self_rated_mental_health_Positive'\n",
        "target = ('self_rated_mental_health_Positive')\n",
        "\n",
        "# Train/Test Splitting\n",
        "# Define features (X) and target (y)\n",
        "X = df_encoded.drop(columns=[target])  # Features\n",
        "y = df_encoded[target]  # Target variable\n",
        "\n",
        "X_train, X_test, y_train, y_test = train_test_split(X, y, test_size=0.2, random_state=42, stratify=y)\n",
        "\n",
        "# Check class distribution before SMOTE\n",
        "print(\"Before SMOTE:\", Counter(y_train))\n",
        "\n",
        "# Apply SMOTE\n",
        "smote = SMOTE(sampling_strategy='auto', random_state=42)\n",
        "X_train_smote, y_train_smote = smote.fit_resample(X_train, y_train)\n",
        "\n",
        "# Check class distribution after SMOTE\n",
        "print(\"After SMOTE:\", Counter(y_train_smote))"
      ],
      "metadata": {
        "colab": {
          "base_uri": "https://localhost:8080/"
        },
        "id": "KMR-LrMpTE59",
        "outputId": "858c6628-229e-493d-cdfa-83748eaf5ccf"
      },
      "execution_count": null,
      "outputs": [
        {
          "output_type": "stream",
          "name": "stdout",
          "text": [
            "Before SMOTE: Counter({True: 1017, False: 243})\n",
            "After SMOTE: Counter({False: 1017, True: 1017})\n"
          ]
        }
      ]
    },
    {
      "cell_type": "markdown",
      "source": [
        "### SVM Model (Linear, SMOTE)."
      ],
      "metadata": {
        "id": "X3besHSFUjA-"
      }
    },
    {
      "cell_type": "code",
      "source": [
        "from sklearn.svm import SVC\n",
        "from sklearn.metrics import accuracy_score, classification_report, confusion_matrix\n",
        "\n",
        "# Create an SVM model (using a linear kernel)\n",
        "svm_model_smote = SVC(kernel='linear')\n",
        "\n",
        "# Train the model\n",
        "svm_model_smote.fit(X_train_smote, y_train_smote)\n",
        "\n",
        "# Make predictions on the test set\n",
        "y_pred = svm_model_smote.predict(X_test)\n",
        "\n",
        "# Evaluate model performance\n",
        "accuracy = accuracy_score(y_test, y_pred)\n",
        "conf_matrix = confusion_matrix(y_test, y_pred)\n",
        "class_report = classification_report(y_test, y_pred)\n",
        "\n",
        "# Calculate accuracy\n",
        "accuracy = accuracy_score(y_test, y_pred)\n",
        "print(f\"Model accuracy: {accuracy:.2f}\")\n",
        "print(\"Confusion Matrix:\\n\", conf_matrix)\n",
        "print(\"Classification Report:\\n\", class_report)"
      ],
      "metadata": {
        "colab": {
          "base_uri": "https://localhost:8080/"
        },
        "id": "c3y4azy3UqKK",
        "outputId": "927a634a-9a2f-4504-c3aa-4fb4a21b1aad"
      },
      "execution_count": null,
      "outputs": [
        {
          "output_type": "stream",
          "name": "stdout",
          "text": [
            "Model accuracy: 0.78\n",
            "Confusion Matrix:\n",
            " [[ 13  48]\n",
            " [ 20 235]]\n",
            "Classification Report:\n",
            "               precision    recall  f1-score   support\n",
            "\n",
            "       False       0.39      0.21      0.28        61\n",
            "        True       0.83      0.92      0.87       255\n",
            "\n",
            "    accuracy                           0.78       316\n",
            "   macro avg       0.61      0.57      0.58       316\n",
            "weighted avg       0.75      0.78      0.76       316\n",
            "\n"
          ]
        }
      ]
    },
    {
      "cell_type": "code",
      "source": [
        "y_pred = svm_model_smote.predict(X_train_smote)\n",
        "print(\"Classification Report:\\n\", classification_report(y_train_smote, y_pred))\n",
        "# 1 shows overefitting to training -> look into hyperparameter tuning (leaf, minimal sample per leaf)"
      ],
      "metadata": {
        "colab": {
          "base_uri": "https://localhost:8080/"
        },
        "id": "Yn3Styn4002l",
        "outputId": "cad5d6e5-ed2b-4bba-cf39-ece10dd1ce6f"
      },
      "execution_count": null,
      "outputs": [
        {
          "output_type": "stream",
          "name": "stdout",
          "text": [
            "Classification Report:\n",
            "               precision    recall  f1-score   support\n",
            "\n",
            "       False       0.94      0.77      0.84      1017\n",
            "        True       0.80      0.95      0.87      1017\n",
            "\n",
            "    accuracy                           0.86      2034\n",
            "   macro avg       0.87      0.86      0.86      2034\n",
            "weighted avg       0.87      0.86      0.86      2034\n",
            "\n"
          ]
        }
      ]
    },
    {
      "cell_type": "markdown",
      "source": [
        "#SVM Model (RBF, SMOTE)."
      ],
      "metadata": {
        "id": "PopLMrzG1m5l"
      }
    },
    {
      "cell_type": "code",
      "source": [
        "# SVM Using RBF Kernel\n",
        "from sklearn.svm import SVC\n",
        "from sklearn.metrics import accuracy_score, classification_report, confusion_matrix\n",
        "\n",
        "# Split dataset into training and testing sets (80% training, 20% testing)\n",
        "#X_train, X_test, y_train, y_test = train_test_split(X, y, test_size=0.2, random_state=42)\n",
        "\n",
        "# Create an SVM model (using a rbf kernel)\n",
        "svm_rbf_model_smote = SVC(kernel='rbf')\n",
        "\n",
        "# Train the model\n",
        "svm_rbf_model_smote.fit(X_train_smote, y_train_smote)\n",
        "\n",
        "# Make predictions on the test set\n",
        "y_pred = svm_rbf_model_smote.predict(X_test)\n",
        "\n",
        "# Evaluate model performance\n",
        "accuracy = accuracy_score(y_test, y_pred)\n",
        "conf_matrix = confusion_matrix(y_test, y_pred)\n",
        "class_report = classification_report(y_test, y_pred)\n",
        "\n",
        "# Calculate accuracy\n",
        "accuracy = accuracy_score(y_test, y_pred)\n",
        "print(f\"Model accuracy: {accuracy:.2f}\")\n",
        "print(\"Confusion Matrix:\\n\", conf_matrix)\n",
        "print(\"Classification Report:\\n\", class_report)"
      ],
      "metadata": {
        "colab": {
          "base_uri": "https://localhost:8080/"
        },
        "id": "ZA1MIZdp1viD",
        "outputId": "62d9bcdd-d9e5-40e0-aab3-1e59fda15122"
      },
      "execution_count": null,
      "outputs": [
        {
          "output_type": "stream",
          "name": "stdout",
          "text": [
            "Model accuracy: 0.72\n",
            "Confusion Matrix:\n",
            " [[ 37  24]\n",
            " [ 65 190]]\n",
            "Classification Report:\n",
            "               precision    recall  f1-score   support\n",
            "\n",
            "       False       0.36      0.61      0.45        61\n",
            "        True       0.89      0.75      0.81       255\n",
            "\n",
            "    accuracy                           0.72       316\n",
            "   macro avg       0.63      0.68      0.63       316\n",
            "weighted avg       0.79      0.72      0.74       316\n",
            "\n"
          ]
        }
      ]
    },
    {
      "cell_type": "code",
      "source": [
        "y_pred = svm_rbf_model_smote.predict(X_train_smote)\n",
        "print(\"Classification Report:\\n\", classification_report(y_train_smote, y_pred))\n",
        "# 1 shows overefitting to training -> look into hyperparameter tuning (leaf, minimal sample per leaf)"
      ],
      "metadata": {
        "colab": {
          "base_uri": "https://localhost:8080/"
        },
        "id": "V0e5yENQ10j0",
        "outputId": "e5714f1d-3219-4c16-ee4c-94aa54106165"
      },
      "execution_count": null,
      "outputs": [
        {
          "output_type": "stream",
          "name": "stdout",
          "text": [
            "Classification Report:\n",
            "               precision    recall  f1-score   support\n",
            "\n",
            "       False       0.75      0.70      0.72      1017\n",
            "        True       0.72      0.76      0.74      1017\n",
            "\n",
            "    accuracy                           0.73      2034\n",
            "   macro avg       0.73      0.73      0.73      2034\n",
            "weighted avg       0.73      0.73      0.73      2034\n",
            "\n"
          ]
        }
      ]
    },
    {
      "cell_type": "markdown",
      "source": [
        "#SVM Model (SMOTE, RBF, Hyperparameter)."
      ],
      "metadata": {
        "id": "03VBw4xI1-L9"
      }
    },
    {
      "cell_type": "code",
      "source": [
        "# SVM Using RBF Kernel\n",
        "from sklearn.svm import SVC\n",
        "from sklearn.metrics import accuracy_score, classification_report, confusion_matrix, ConfusionMatrixDisplay\n",
        "\n",
        "# Split dataset into training and testing sets (80% training, 20% testing)\n",
        "#X_train, X_test, y_train, y_test = train_test_split(X, y, test_size=0.2, random_state=42)\n",
        "\n",
        "# Create an SVM model (using a linear kernel)\n",
        "svm_rbf_model_smote_b = SVC(kernel='rbf', gamma=0.35)\n",
        "\n",
        "# Train the model\n",
        "svm_rbf_model_smote_b.fit(X_train_smote, y_train_smote)\n",
        "\n",
        "# Make predictions on the test set\n",
        "y_pred = svm_rbf_model_smote_b.predict(X_test)\n",
        "\n",
        "# Evaluate model performance\n",
        "accuracy = accuracy_score(y_test, y_pred)\n",
        "conf_matrix = confusion_matrix(y_test, y_pred)\n",
        "class_report = classification_report(y_test, y_pred)\n",
        "\n",
        "# Calculate accuracy\n",
        "print(\"SVM Model. RBF Kernel. (SMOTE)\")\n",
        "accuracy = accuracy_score(y_test, y_pred)\n",
        "print(f\"Model accuracy: {accuracy:.2f}\")\n",
        "print(\"Confusion Matrix:\\n\", conf_matrix)\n",
        "# Display confusion matrix\n",
        "disp = ConfusionMatrixDisplay(confusion_matrix=conf_matrix)\n",
        "disp.plot(cmap=plt.cm.Blues)\n",
        "plt.show()\n",
        "print(\"Classification Report:\\n\", class_report)"
      ],
      "metadata": {
        "colab": {
          "base_uri": "https://localhost:8080/",
          "height": 704
        },
        "id": "Kq0GKFE62HH7",
        "outputId": "a81da860-e199-4b13-fe0b-02445d8569d7"
      },
      "execution_count": null,
      "outputs": [
        {
          "output_type": "stream",
          "name": "stdout",
          "text": [
            "SVM Model. RBF Kernel. (SMOTE)\n",
            "Model accuracy: 0.82\n",
            "Confusion Matrix:\n",
            " [[ 20  41]\n",
            " [ 17 238]]\n"
          ]
        },
        {
          "output_type": "display_data",
          "data": {
            "text/plain": [
              "<Figure size 640x480 with 2 Axes>"
            ],
            "image/png": "[encoded data removed]"
          },
          "metadata": {}
        },
        {
          "output_type": "stream",
          "name": "stdout",
          "text": [
            "Classification Report:\n",
            "               precision    recall  f1-score   support\n",
            "\n",
            "       False       0.54      0.33      0.41        61\n",
            "        True       0.85      0.93      0.89       255\n",
            "\n",
            "    accuracy                           0.82       316\n",
            "   macro avg       0.70      0.63      0.65       316\n",
            "weighted avg       0.79      0.82      0.80       316\n",
            "\n"
          ]
        }
      ]
    },
    {
      "cell_type": "code",
      "source": [
        "import numpy as np\n",
        "import matplotlib.pyplot as plt\n",
        "from sklearn.metrics import confusion_matrix\n",
        "from matplotlib.colors import ListedColormap\n",
        "\n",
        "# Compute confusion matrix\n",
        "cm = conf_matrix\n",
        "classes = ['Negative', 'Positive']  # Adjust class labels as needed\n",
        "\n",
        "# Define custom hex color gradient\n",
        "colors = ['#C7E1E4', '#AFD5CB', '#72A7AC']  # Light green to dark green\n",
        "custom_cmap = ListedColormap(colors)\n",
        "\n",
        "# Plot confusion matrix\n",
        "plt.figure(figsize=(6, 5))\n",
        "plt.imshow(cm, interpolation='nearest', cmap=custom_cmap)\n",
        "plt.colorbar()\n",
        "\n",
        "# Add labels\n",
        "tick_marks = np.arange(len(classes))\n",
        "plt.xticks(tick_marks, classes)\n",
        "plt.yticks(tick_marks, classes)\n",
        "\n",
        "# Add text annotations\n",
        "for i in range(cm.shape[0]):\n",
        "    for j in range(cm.shape[1]):\n",
        "        plt.text(j, i, str(cm[i, j]), ha='center', va='center', color='black', fontsize=12)\n",
        "\n",
        "plt.xlabel('Predicted Label')\n",
        "plt.ylabel('True Label')\n",
        "plt.title('Confusion Matrix with Custom Hex Colors')\n",
        "plt.show()\n"
      ],
      "metadata": {
        "colab": {
          "base_uri": "https://localhost:8080/",
          "height": 474
        },
        "id": "-gQ5B5vivVgM",
        "outputId": "73f6b895-fbe6-439d-f903-4c537fbd690b"
      },
      "execution_count": null,
      "outputs": [
        {
          "output_type": "display_data",
          "data": {
            "text/plain": [
              "<Figure size 600x500 with 2 Axes>"
            ],
            "image/png": "[encoded data removed]"
          },
          "metadata": {}
        }
      ]
    },
    {
      "cell_type": "code",
      "source": [
        "from matplotlib.colors import LinearSegmentedColormap\n",
        "\n",
        "# Compute confusion matrix\n",
        "cm = conf_matrix\n",
        "classes = ['Negative', 'Positive']  # Adjust class labels as needed\n",
        "\n",
        "# Define a gradient colormap with two hex colors\n",
        "color1 = \"#C7E1E4\"  # Light green\n",
        "color2 = \"#72A7AC\"  # Dark green\n",
        "custom_cmap = LinearSegmentedColormap.from_list(\"custom_cmap\", [color1, color2])\n",
        "\n",
        "# Plot confusion matrix\n",
        "plt.figure(figsize=(6, 5))\n",
        "plt.imshow(cm, interpolation='nearest', cmap=custom_cmap)\n",
        "plt.colorbar()\n",
        "\n",
        "# Add labels\n",
        "tick_marks = np.arange(len(classes))\n",
        "plt.xticks(tick_marks, classes)\n",
        "plt.yticks(tick_marks, classes)\n",
        "\n",
        "# Add text annotations\n",
        "for i in range(cm.shape[0]):\n",
        "    for j in range(cm.shape[1]):\n",
        "        plt.text(j, i, str(cm[i, j]), ha='center', va='center', color='black', fontsize=20)\n",
        "\n",
        "plt.xlabel('Predicted Label')\n",
        "plt.ylabel('True Label')\n",
        "plt.title('Confusion Matrix with Custom Gradient')\n",
        "plt.show()\n"
      ],
      "metadata": {
        "colab": {
          "base_uri": "https://localhost:8080/",
          "height": 474
        },
        "id": "ymPdRfxAwsx1",
        "outputId": "43e38afd-fa90-4bb9-ec0c-fc38725a71e5"
      },
      "execution_count": null,
      "outputs": [
        {
          "output_type": "display_data",
          "data": {
            "text/plain": [
              "<Figure size 600x500 with 2 Axes>"
            ],
            "image/png": "[encoded data removed]"
          },
          "metadata": {}
        }
      ]
    },
    {
      "cell_type": "code",
      "source": [
        "y_pred = svm_rbf_model_smote_b.predict(X_train_smote)\n",
        "print(\"Confusion Matrix:\\n\", confusion_matrix(y_train_smote, y_pred))\n",
        "print(\"Classification Report:\\n\", classification_report(y_train_smote, y_pred))\n",
        "# 1 shows overefitting to training -> look into hyperparameter tuning (leaf, minimal sample per leaf)"
      ],
      "metadata": {
        "id": "g4wUft0y2NRj",
        "colab": {
          "base_uri": "https://localhost:8080/"
        },
        "outputId": "9b7ee7bc-9608-4051-bc77-a10fff6440d7"
      },
      "execution_count": null,
      "outputs": [
        {
          "output_type": "stream",
          "name": "stdout",
          "text": [
            "Confusion Matrix:\n",
            " [[1011    6]\n",
            " [  10 1007]]\n",
            "Classification Report:\n",
            "               precision    recall  f1-score   support\n",
            "\n",
            "       False       0.99      0.99      0.99      1017\n",
            "        True       0.99      0.99      0.99      1017\n",
            "\n",
            "    accuracy                           0.99      2034\n",
            "   macro avg       0.99      0.99      0.99      2034\n",
            "weighted avg       0.99      0.99      0.99      2034\n",
            "\n"
          ]
        }
      ]
    }
  ]
}