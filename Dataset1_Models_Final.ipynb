{
  "cells": [
    {
      "cell_type": "markdown",
      "metadata": {
        "id": "TdYF5tl46-zk"
      },
      "source": [
        "## **Imports**"
      ]
    },
    {
      "cell_type": "code",
      "execution_count": 1,
      "metadata": {
        "id": "dIAnN2N2uUSJ"
      },
      "outputs": [],
      "source": [
        "import pandas as pd\n",
        "import numpy as np\n",
        "import matplotlib.pyplot as plt\n",
        "import seaborn as sns\n",
        "from sklearn.model_selection import train_test_split\n",
        "from sklearn.preprocessing import LabelEncoder\n",
        "from sklearn.tree import DecisionTreeClassifier, DecisionTreeRegressor, plot_tree\n",
        "from sklearn.metrics import accuracy_score, mean_squared_error"
      ]
    },
    {
      "cell_type": "markdown",
      "metadata": {
        "id": "IoIj-t2J7DRg"
      },
      "source": [
        "## CSV **Upload**"
      ]
    },
    {
      "cell_type": "code",
      "execution_count": 2,
      "metadata": {
        "colab": {
          "base_uri": "https://localhost:8080/"
        },
        "id": "foUdWrwPv8kF",
        "outputId": "32b4780b-3315-43c6-faa5-bbb6e23435fd"
      },
      "outputs": [
        {
          "output_type": "stream",
          "name": "stdout",
          "text": [
            "Mounted at /content/drive\n"
          ]
        }
      ],
      "source": [
        "from google.colab import drive\n",
        "drive.mount('/content/drive')"
      ]
    },
    {
      "cell_type": "markdown",
      "metadata": {
        "id": "Iqg6nmCfwcyu"
      },
      "source": []
    },
    {
      "cell_type": "code",
      "execution_count": 3,
      "metadata": {
        "colab": {
          "base_uri": "https://localhost:8080/"
        },
        "id": "qTfeyY4KweWE",
        "outputId": "0e7e41a0-9caf-4557-98f4-561226ebb0c8"
      },
      "outputs": [
        {
          "output_type": "stream",
          "name": "stdout",
          "text": [
            "<class 'pandas.core.frame.DataFrame'>\n",
            "RangeIndex: 5000 entries, 0 to 4999\n",
            "Data columns (total 20 columns):\n",
            " #   Column                             Non-Null Count  Dtype \n",
            "---  ------                             --------------  ----- \n",
            " 0   Employee_ID                        5000 non-null   object\n",
            " 1   Age                                5000 non-null   int64 \n",
            " 2   Gender                             5000 non-null   object\n",
            " 3   Job_Role                           5000 non-null   object\n",
            " 4   Industry                           5000 non-null   object\n",
            " 5   Years_of_Experience                5000 non-null   int64 \n",
            " 6   Work_Location                      5000 non-null   object\n",
            " 7   Hours_Worked_Per_Week              5000 non-null   int64 \n",
            " 8   Number_of_Virtual_Meetings         5000 non-null   int64 \n",
            " 9   Work_Life_Balance_Rating           5000 non-null   int64 \n",
            " 10  Stress_Level                       5000 non-null   object\n",
            " 11  Mental_Health_Condition            3804 non-null   object\n",
            " 12  Access_to_Mental_Health_Resources  5000 non-null   object\n",
            " 13  Productivity_Change                5000 non-null   object\n",
            " 14  Social_Isolation_Rating            5000 non-null   int64 \n",
            " 15  Satisfaction_with_Remote_Work      5000 non-null   object\n",
            " 16  Company_Support_for_Remote_Work    5000 non-null   int64 \n",
            " 17  Physical_Activity                  3371 non-null   object\n",
            " 18  Sleep_Quality                      5000 non-null   object\n",
            " 19  Region                             5000 non-null   object\n",
            "dtypes: int64(7), object(13)\n",
            "memory usage: 781.4+ KB\n"
          ]
        }
      ],
      "source": [
        "df = pd.read_csv('/content/drive/MyDrive/Impact_of_Remote_Work_on_Mental_Health.csv')\n",
        "\n",
        "df.info()"
      ]
    },
    {
      "cell_type": "markdown",
      "metadata": {
        "id": "0x8lcy7k7cUx"
      },
      "source": [
        "# Clean Up"
      ]
    },
    {
      "cell_type": "code",
      "execution_count": 4,
      "metadata": {
        "colab": {
          "base_uri": "https://localhost:8080/"
        },
        "id": "BMbDDPvH7iGS",
        "outputId": "d70db70c-1b37-4044-9904-d1ae325a7f22"
      },
      "outputs": [
        {
          "output_type": "stream",
          "name": "stdout",
          "text": [
            "<class 'pandas.core.frame.DataFrame'>\n",
            "Index: 2577 entries, 0 to 4997\n",
            "Data columns (total 20 columns):\n",
            " #   Column                             Non-Null Count  Dtype \n",
            "---  ------                             --------------  ----- \n",
            " 0   Employee_ID                        2577 non-null   object\n",
            " 1   Age                                2577 non-null   int64 \n",
            " 2   Gender                             2577 non-null   object\n",
            " 3   Job_Role                           2577 non-null   object\n",
            " 4   Industry                           2577 non-null   object\n",
            " 5   Years_of_Experience                2577 non-null   int64 \n",
            " 6   Work_Location                      2577 non-null   object\n",
            " 7   Hours_Worked_Per_Week              2577 non-null   int64 \n",
            " 8   Number_of_Virtual_Meetings         2577 non-null   int64 \n",
            " 9   Work_Life_Balance_Rating           2577 non-null   int64 \n",
            " 10  Stress_Level                       2577 non-null   object\n",
            " 11  Mental_Health_Condition            2577 non-null   object\n",
            " 12  Access_to_Mental_Health_Resources  2577 non-null   object\n",
            " 13  Productivity_Change                2577 non-null   object\n",
            " 14  Social_Isolation_Rating            2577 non-null   int64 \n",
            " 15  Satisfaction_with_Remote_Work      2577 non-null   object\n",
            " 16  Company_Support_for_Remote_Work    2577 non-null   int64 \n",
            " 17  Physical_Activity                  2577 non-null   object\n",
            " 18  Sleep_Quality                      2577 non-null   object\n",
            " 19  Region                             2577 non-null   object\n",
            "dtypes: int64(7), object(13)\n",
            "memory usage: 422.8+ KB\n"
          ]
        }
      ],
      "source": [
        "# Dropping missing values\n",
        "df.dropna(inplace=True)\n",
        "\n",
        "# Checking there is no null/missing values\n",
        "df.isnull().sum()\n",
        "df.info()"
      ]
    },
    {
      "cell_type": "code",
      "source": [
        "target = df['Mental_Health_Condition']\n",
        "df_clean = df.drop(columns = 'Mental_Health_Condition')\n",
        "df_clean.head()\n"
      ],
      "metadata": {
        "colab": {
          "base_uri": "https://localhost:8080/",
          "height": 309
        },
        "id": "A2MDDddWhdzf",
        "outputId": "122c13da-6020-4809-e579-c7cc03acf111"
      },
      "execution_count": 5,
      "outputs": [
        {
          "output_type": "execute_result",
          "data": {
            "text/plain": [
              "   Employee_ID  Age             Gender        Job_Role    Industry  \\\n",
              "0      EMP0001   32         Non-binary              HR  Healthcare   \n",
              "1      EMP0002   40             Female  Data Scientist          IT   \n",
              "6      EMP0007   31  Prefer not to say           Sales          IT   \n",
              "9      EMP0010   30             Female              HR          IT   \n",
              "12     EMP0013   40             Female       Marketing  Consulting   \n",
              "\n",
              "    Years_of_Experience Work_Location  Hours_Worked_Per_Week  \\\n",
              "0                    13        Hybrid                     47   \n",
              "1                     3        Remote                     52   \n",
              "6                    24        Remote                     51   \n",
              "9                    28        Hybrid                     57   \n",
              "12                    1        Remote                     21   \n",
              "\n",
              "    Number_of_Virtual_Meetings  Work_Life_Balance_Rating Stress_Level  \\\n",
              "0                            7                         2       Medium   \n",
              "1                            4                         1       Medium   \n",
              "6                            7                         3          Low   \n",
              "9                            6                         1          Low   \n",
              "12                           7                         2         High   \n",
              "\n",
              "   Access_to_Mental_Health_Resources Productivity_Change  \\\n",
              "0                                 No            Decrease   \n",
              "1                                 No            Increase   \n",
              "6                                Yes            Decrease   \n",
              "9                                Yes            Decrease   \n",
              "12                               Yes            Decrease   \n",
              "\n",
              "    Social_Isolation_Rating Satisfaction_with_Remote_Work  \\\n",
              "0                         1                   Unsatisfied   \n",
              "1                         3                     Satisfied   \n",
              "6                         5                       Neutral   \n",
              "9                         2                       Neutral   \n",
              "12                        2                       Neutral   \n",
              "\n",
              "    Company_Support_for_Remote_Work Physical_Activity Sleep_Quality  \\\n",
              "0                                 1            Weekly          Good   \n",
              "1                                 2            Weekly          Good   \n",
              "6                                 3             Daily          Poor   \n",
              "9                                 1            Weekly          Poor   \n",
              "12                                1            Weekly          Good   \n",
              "\n",
              "           Region  \n",
              "0          Europe  \n",
              "1            Asia  \n",
              "6            Asia  \n",
              "9   North America  \n",
              "12         Europe  "
            ],
            "text/html": [
              "\n",
              "  <div id=\"df-9f263ab0-909d-4ed0-84d3-329e0105ea4b\" class=\"colab-df-container\">\n",
              "    <div>\n",
              "<style scoped>\n",
              "    .dataframe tbody tr th:only-of-type {\n",
              "        vertical-align: middle;\n",
              "    }\n",
              "\n",
              "    .dataframe tbody tr th {\n",
              "        vertical-align: top;\n",
              "    }\n",
              "\n",
              "    .dataframe thead th {\n",
              "        text-align: right;\n",
              "    }\n",
              "</style>\n",
              "<table border=\"1\" class=\"dataframe\">\n",
              "  <thead>\n",
              "    <tr style=\"text-align: right;\">\n",
              "      <th></th>\n",
              "      <th>Employee_ID</th>\n",
              "      <th>Age</th>\n",
              "      <th>Gender</th>\n",
              "      <th>Job_Role</th>\n",
              "      <th>Industry</th>\n",
              "      <th>Years_of_Experience</th>\n",
              "      <th>Work_Location</th>\n",
              "      <th>Hours_Worked_Per_Week</th>\n",
              "      <th>Number_of_Virtual_Meetings</th>\n",
              "      <th>Work_Life_Balance_Rating</th>\n",
              "      <th>Stress_Level</th>\n",
              "      <th>Access_to_Mental_Health_Resources</th>\n",
              "      <th>Productivity_Change</th>\n",
              "      <th>Social_Isolation_Rating</th>\n",
              "      <th>Satisfaction_with_Remote_Work</th>\n",
              "      <th>Company_Support_for_Remote_Work</th>\n",
              "      <th>Physical_Activity</th>\n",
              "      <th>Sleep_Quality</th>\n",
              "      <th>Region</th>\n",
              "    </tr>\n",
              "  </thead>\n",
              "  <tbody>\n",
              "    <tr>\n",
              "      <th>0</th>\n",
              "      <td>EMP0001</td>\n",
              "      <td>32</td>\n",
              "      <td>Non-binary</td>\n",
              "      <td>HR</td>\n",
              "      <td>Healthcare</td>\n",
              "      <td>13</td>\n",
              "      <td>Hybrid</td>\n",
              "      <td>47</td>\n",
              "      <td>7</td>\n",
              "      <td>2</td>\n",
              "      <td>Medium</td>\n",
              "      <td>No</td>\n",
              "      <td>Decrease</td>\n",
              "      <td>1</td>\n",
              "      <td>Unsatisfied</td>\n",
              "      <td>1</td>\n",
              "      <td>Weekly</td>\n",
              "      <td>Good</td>\n",
              "      <td>Europe</td>\n",
              "    </tr>\n",
              "    <tr>\n",
              "      <th>1</th>\n",
              "      <td>EMP0002</td>\n",
              "      <td>40</td>\n",
              "      <td>Female</td>\n",
              "      <td>Data Scientist</td>\n",
              "      <td>IT</td>\n",
              "      <td>3</td>\n",
              "      <td>Remote</td>\n",
              "      <td>52</td>\n",
              "      <td>4</td>\n",
              "      <td>1</td>\n",
              "      <td>Medium</td>\n",
              "      <td>No</td>\n",
              "      <td>Increase</td>\n",
              "      <td>3</td>\n",
              "      <td>Satisfied</td>\n",
              "      <td>2</td>\n",
              "      <td>Weekly</td>\n",
              "      <td>Good</td>\n",
              "      <td>Asia</td>\n",
              "    </tr>\n",
              "    <tr>\n",
              "      <th>6</th>\n",
              "      <td>EMP0007</td>\n",
              "      <td>31</td>\n",
              "      <td>Prefer not to say</td>\n",
              "      <td>Sales</td>\n",
              "      <td>IT</td>\n",
              "      <td>24</td>\n",
              "      <td>Remote</td>\n",
              "      <td>51</td>\n",
              "      <td>7</td>\n",
              "      <td>3</td>\n",
              "      <td>Low</td>\n",
              "      <td>Yes</td>\n",
              "      <td>Decrease</td>\n",
              "      <td>5</td>\n",
              "      <td>Neutral</td>\n",
              "      <td>3</td>\n",
              "      <td>Daily</td>\n",
              "      <td>Poor</td>\n",
              "      <td>Asia</td>\n",
              "    </tr>\n",
              "    <tr>\n",
              "      <th>9</th>\n",
              "      <td>EMP0010</td>\n",
              "      <td>30</td>\n",
              "      <td>Female</td>\n",
              "      <td>HR</td>\n",
              "      <td>IT</td>\n",
              "      <td>28</td>\n",
              "      <td>Hybrid</td>\n",
              "      <td>57</td>\n",
              "      <td>6</td>\n",
              "      <td>1</td>\n",
              "      <td>Low</td>\n",
              "      <td>Yes</td>\n",
              "      <td>Decrease</td>\n",
              "      <td>2</td>\n",
              "      <td>Neutral</td>\n",
              "      <td>1</td>\n",
              "      <td>Weekly</td>\n",
              "      <td>Poor</td>\n",
              "      <td>North America</td>\n",
              "    </tr>\n",
              "    <tr>\n",
              "      <th>12</th>\n",
              "      <td>EMP0013</td>\n",
              "      <td>40</td>\n",
              "      <td>Female</td>\n",
              "      <td>Marketing</td>\n",
              "      <td>Consulting</td>\n",
              "      <td>1</td>\n",
              "      <td>Remote</td>\n",
              "      <td>21</td>\n",
              "      <td>7</td>\n",
              "      <td>2</td>\n",
              "      <td>High</td>\n",
              "      <td>Yes</td>\n",
              "      <td>Decrease</td>\n",
              "      <td>2</td>\n",
              "      <td>Neutral</td>\n",
              "      <td>1</td>\n",
              "      <td>Weekly</td>\n",
              "      <td>Good</td>\n",
              "      <td>Europe</td>\n",
              "    </tr>\n",
              "  </tbody>\n",
              "</table>\n",
              "</div>\n",
              "    <div class=\"colab-df-buttons\">\n",
              "\n",
              "  <div class=\"colab-df-container\">\n",
              "    <button class=\"colab-df-convert\" onclick=\"convertToInteractive('df-9f263ab0-909d-4ed0-84d3-329e0105ea4b')\"\n",
              "            title=\"Convert this dataframe to an interactive table.\"\n",
              "            style=\"display:none;\">\n",
              "\n",
              "  <svg xmlns=\"http://www.w3.org/2000/svg\" height=\"24px\" viewBox=\"0 -960 960 960\">\n",
              "    <path d=\"M120-120v-720h720v720H120Zm60-500h600v-160H180v160Zm220 220h160v-160H400v160Zm0 220h160v-160H400v160ZM180-400h160v-160H180v160Zm440 0h160v-160H620v160ZM180-180h160v-160H180v160Zm440 0h160v-160H620v160Z\"/>\n",
              "  </svg>\n",
              "    </button>\n",
              "\n",
              "  <style>\n",
              "    .colab-df-container {\n",
              "      display:flex;\n",
              "      gap: 12px;\n",
              "    }\n",
              "\n",
              "    .colab-df-convert {\n",
              "      background-color: #E8F0FE;\n",
              "      border: none;\n",
              "      border-radius: 50%;\n",
              "      cursor: pointer;\n",
              "      display: none;\n",
              "      fill: #1967D2;\n",
              "      height: 32px;\n",
              "      padding: 0 0 0 0;\n",
              "      width: 32px;\n",
              "    }\n",
              "\n",
              "    .colab-df-convert:hover {\n",
              "      background-color: #E2EBFA;\n",
              "      box-shadow: 0px 1px 2px rgba(60, 64, 67, 0.3), 0px 1px 3px 1px rgba(60, 64, 67, 0.15);\n",
              "      fill: #174EA6;\n",
              "    }\n",
              "\n",
              "    .colab-df-buttons div {\n",
              "      margin-bottom: 4px;\n",
              "    }\n",
              "\n",
              "    [theme=dark] .colab-df-convert {\n",
              "      background-color: #3B4455;\n",
              "      fill: #D2E3FC;\n",
              "    }\n",
              "\n",
              "    [theme=dark] .colab-df-convert:hover {\n",
              "      background-color: #434B5C;\n",
              "      box-shadow: 0px 1px 3px 1px rgba(0, 0, 0, 0.15);\n",
              "      filter: drop-shadow(0px 1px 2px rgba(0, 0, 0, 0.3));\n",
              "      fill: #FFFFFF;\n",
              "    }\n",
              "  </style>\n",
              "\n",
              "    <script>\n",
              "      const buttonEl =\n",
              "        document.querySelector('#df-9f263ab0-909d-4ed0-84d3-329e0105ea4b button.colab-df-convert');\n",
              "      buttonEl.style.display =\n",
              "        google.colab.kernel.accessAllowed ? 'block' : 'none';\n",
              "\n",
              "      async function convertToInteractive(key) {\n",
              "        const element = document.querySelector('#df-9f263ab0-909d-4ed0-84d3-329e0105ea4b');\n",
              "        const dataTable =\n",
              "          await google.colab.kernel.invokeFunction('convertToInteractive',\n",
              "                                                    [key], {});\n",
              "        if (!dataTable) return;\n",
              "\n",
              "        const docLinkHtml = 'Like what you see? Visit the ' +\n",
              "          '<a target=\"_blank\" href=https://colab.research.google.com/notebooks/data_table.ipynb>data table notebook</a>'\n",
              "          + ' to learn more about interactive tables.';\n",
              "        element.innerHTML = '';\n",
              "        dataTable['output_type'] = 'display_data';\n",
              "        await google.colab.output.renderOutput(dataTable, element);\n",
              "        const docLink = document.createElement('div');\n",
              "        docLink.innerHTML = docLinkHtml;\n",
              "        element.appendChild(docLink);\n",
              "      }\n",
              "    </script>\n",
              "  </div>\n",
              "\n",
              "\n",
              "<div id=\"df-adee3314-b9ac-4cd4-a8ee-b8fef1921b58\">\n",
              "  <button class=\"colab-df-quickchart\" onclick=\"quickchart('df-adee3314-b9ac-4cd4-a8ee-b8fef1921b58')\"\n",
              "            title=\"Suggest charts\"\n",
              "            style=\"display:none;\">\n",
              "\n",
              "<svg xmlns=\"http://www.w3.org/2000/svg\" height=\"24px\"viewBox=\"0 0 24 24\"\n",
              "     width=\"24px\">\n",
              "    <g>\n",
              "        <path d=\"M19 3H5c-1.1 0-2 .9-2 2v14c0 1.1.9 2 2 2h14c1.1 0 2-.9 2-2V5c0-1.1-.9-2-2-2zM9 17H7v-7h2v7zm4 0h-2V7h2v10zm4 0h-2v-4h2v4z\"/>\n",
              "    </g>\n",
              "</svg>\n",
              "  </button>\n",
              "\n",
              "<style>\n",
              "  .colab-df-quickchart {\n",
              "      --bg-color: #E8F0FE;\n",
              "      --fill-color: #1967D2;\n",
              "      --hover-bg-color: #E2EBFA;\n",
              "      --hover-fill-color: #174EA6;\n",
              "      --disabled-fill-color: #AAA;\n",
              "      --disabled-bg-color: #DDD;\n",
              "  }\n",
              "\n",
              "  [theme=dark] .colab-df-quickchart {\n",
              "      --bg-color: #3B4455;\n",
              "      --fill-color: #D2E3FC;\n",
              "      --hover-bg-color: #434B5C;\n",
              "      --hover-fill-color: #FFFFFF;\n",
              "      --disabled-bg-color: #3B4455;\n",
              "      --disabled-fill-color: #666;\n",
              "  }\n",
              "\n",
              "  .colab-df-quickchart {\n",
              "    background-color: var(--bg-color);\n",
              "    border: none;\n",
              "    border-radius: 50%;\n",
              "    cursor: pointer;\n",
              "    display: none;\n",
              "    fill: var(--fill-color);\n",
              "    height: 32px;\n",
              "    padding: 0;\n",
              "    width: 32px;\n",
              "  }\n",
              "\n",
              "  .colab-df-quickchart:hover {\n",
              "    background-color: var(--hover-bg-color);\n",
              "    box-shadow: 0 1px 2px rgba(60, 64, 67, 0.3), 0 1px 3px 1px rgba(60, 64, 67, 0.15);\n",
              "    fill: var(--button-hover-fill-color);\n",
              "  }\n",
              "\n",
              "  .colab-df-quickchart-complete:disabled,\n",
              "  .colab-df-quickchart-complete:disabled:hover {\n",
              "    background-color: var(--disabled-bg-color);\n",
              "    fill: var(--disabled-fill-color);\n",
              "    box-shadow: none;\n",
              "  }\n",
              "\n",
              "  .colab-df-spinner {\n",
              "    border: 2px solid var(--fill-color);\n",
              "    border-color: transparent;\n",
              "    border-bottom-color: var(--fill-color);\n",
              "    animation:\n",
              "      spin 1s steps(1) infinite;\n",
              "  }\n",
              "\n",
              "  @keyframes spin {\n",
              "    0% {\n",
              "      border-color: transparent;\n",
              "      border-bottom-color: var(--fill-color);\n",
              "      border-left-color: var(--fill-color);\n",
              "    }\n",
              "    20% {\n",
              "      border-color: transparent;\n",
              "      border-left-color: var(--fill-color);\n",
              "      border-top-color: var(--fill-color);\n",
              "    }\n",
              "    30% {\n",
              "      border-color: transparent;\n",
              "      border-left-color: var(--fill-color);\n",
              "      border-top-color: var(--fill-color);\n",
              "      border-right-color: var(--fill-color);\n",
              "    }\n",
              "    40% {\n",
              "      border-color: transparent;\n",
              "      border-right-color: var(--fill-color);\n",
              "      border-top-color: var(--fill-color);\n",
              "    }\n",
              "    60% {\n",
              "      border-color: transparent;\n",
              "      border-right-color: var(--fill-color);\n",
              "    }\n",
              "    80% {\n",
              "      border-color: transparent;\n",
              "      border-right-color: var(--fill-color);\n",
              "      border-bottom-color: var(--fill-color);\n",
              "    }\n",
              "    90% {\n",
              "      border-color: transparent;\n",
              "      border-bottom-color: var(--fill-color);\n",
              "    }\n",
              "  }\n",
              "</style>\n",
              "\n",
              "  <script>\n",
              "    async function quickchart(key) {\n",
              "      const quickchartButtonEl =\n",
              "        document.querySelector('#' + key + ' button');\n",
              "      quickchartButtonEl.disabled = true;  // To prevent multiple clicks.\n",
              "      quickchartButtonEl.classList.add('colab-df-spinner');\n",
              "      try {\n",
              "        const charts = await google.colab.kernel.invokeFunction(\n",
              "            'suggestCharts', [key], {});\n",
              "      } catch (error) {\n",
              "        console.error('Error during call to suggestCharts:', error);\n",
              "      }\n",
              "      quickchartButtonEl.classList.remove('colab-df-spinner');\n",
              "      quickchartButtonEl.classList.add('colab-df-quickchart-complete');\n",
              "    }\n",
              "    (() => {\n",
              "      let quickchartButtonEl =\n",
              "        document.querySelector('#df-adee3314-b9ac-4cd4-a8ee-b8fef1921b58 button');\n",
              "      quickchartButtonEl.style.display =\n",
              "        google.colab.kernel.accessAllowed ? 'block' : 'none';\n",
              "    })();\n",
              "  </script>\n",
              "</div>\n",
              "\n",
              "    </div>\n",
              "  </div>\n"
            ],
            "application/vnd.google.colaboratory.intrinsic+json": {
              "type": "dataframe",
              "variable_name": "df_clean",
              "summary": "{\n  \"name\": \"df_clean\",\n  \"rows\": 2577,\n  \"fields\": [\n    {\n      \"column\": \"Employee_ID\",\n      \"properties\": {\n        \"dtype\": \"string\",\n        \"num_unique_values\": 2577,\n        \"samples\": [\n          \"EMP2203\",\n          \"EMP1814\",\n          \"EMP1477\"\n        ],\n        \"semantic_type\": \"\",\n        \"description\": \"\"\n      }\n    },\n    {\n      \"column\": \"Age\",\n      \"properties\": {\n        \"dtype\": \"number\",\n        \"std\": 11,\n        \"min\": 22,\n        \"max\": 60,\n        \"num_unique_values\": 39,\n        \"samples\": [\n          52,\n          39,\n          51\n        ],\n        \"semantic_type\": \"\",\n        \"description\": \"\"\n      }\n    },\n    {\n      \"column\": \"Gender\",\n      \"properties\": {\n        \"dtype\": \"category\",\n        \"num_unique_values\": 4,\n        \"samples\": [\n          \"Female\",\n          \"Male\",\n          \"Non-binary\"\n        ],\n        \"semantic_type\": \"\",\n        \"description\": \"\"\n      }\n    },\n    {\n      \"column\": \"Job_Role\",\n      \"properties\": {\n        \"dtype\": \"category\",\n        \"num_unique_values\": 7,\n        \"samples\": [\n          \"HR\",\n          \"Data Scientist\",\n          \"Project Manager\"\n        ],\n        \"semantic_type\": \"\",\n        \"description\": \"\"\n      }\n    },\n    {\n      \"column\": \"Industry\",\n      \"properties\": {\n        \"dtype\": \"category\",\n        \"num_unique_values\": 7,\n        \"samples\": [\n          \"Healthcare\",\n          \"IT\",\n          \"Education\"\n        ],\n        \"semantic_type\": \"\",\n        \"description\": \"\"\n      }\n    },\n    {\n      \"column\": \"Years_of_Experience\",\n      \"properties\": {\n        \"dtype\": \"number\",\n        \"std\": 9,\n        \"min\": 1,\n        \"max\": 35,\n        \"num_unique_values\": 35,\n        \"samples\": [\n          2,\n          22,\n          32\n        ],\n        \"semantic_type\": \"\",\n        \"description\": \"\"\n      }\n    },\n    {\n      \"column\": \"Work_Location\",\n      \"properties\": {\n        \"dtype\": \"category\",\n        \"num_unique_values\": 3,\n        \"samples\": [\n          \"Hybrid\",\n          \"Remote\",\n          \"Onsite\"\n        ],\n        \"semantic_type\": \"\",\n        \"description\": \"\"\n      }\n    },\n    {\n      \"column\": \"Hours_Worked_Per_Week\",\n      \"properties\": {\n        \"dtype\": \"number\",\n        \"std\": 11,\n        \"min\": 20,\n        \"max\": 60,\n        \"num_unique_values\": 41,\n        \"samples\": [\n          46,\n          25,\n          37\n        ],\n        \"semantic_type\": \"\",\n        \"description\": \"\"\n      }\n    },\n    {\n      \"column\": \"Number_of_Virtual_Meetings\",\n      \"properties\": {\n        \"dtype\": \"number\",\n        \"std\": 4,\n        \"min\": 0,\n        \"max\": 15,\n        \"num_unique_values\": 16,\n        \"samples\": [\n          7,\n          4,\n          8\n        ],\n        \"semantic_type\": \"\",\n        \"description\": \"\"\n      }\n    },\n    {\n      \"column\": \"Work_Life_Balance_Rating\",\n      \"properties\": {\n        \"dtype\": \"number\",\n        \"std\": 1,\n        \"min\": 1,\n        \"max\": 5,\n        \"num_unique_values\": 5,\n        \"samples\": [\n          1,\n          5,\n          3\n        ],\n        \"semantic_type\": \"\",\n        \"description\": \"\"\n      }\n    },\n    {\n      \"column\": \"Stress_Level\",\n      \"properties\": {\n        \"dtype\": \"category\",\n        \"num_unique_values\": 3,\n        \"samples\": [\n          \"Medium\",\n          \"Low\",\n          \"High\"\n        ],\n        \"semantic_type\": \"\",\n        \"description\": \"\"\n      }\n    },\n    {\n      \"column\": \"Access_to_Mental_Health_Resources\",\n      \"properties\": {\n        \"dtype\": \"category\",\n        \"num_unique_values\": 2,\n        \"samples\": [\n          \"Yes\",\n          \"No\"\n        ],\n        \"semantic_type\": \"\",\n        \"description\": \"\"\n      }\n    },\n    {\n      \"column\": \"Productivity_Change\",\n      \"properties\": {\n        \"dtype\": \"category\",\n        \"num_unique_values\": 3,\n        \"samples\": [\n          \"Decrease\",\n          \"Increase\"\n        ],\n        \"semantic_type\": \"\",\n        \"description\": \"\"\n      }\n    },\n    {\n      \"column\": \"Social_Isolation_Rating\",\n      \"properties\": {\n        \"dtype\": \"number\",\n        \"std\": 1,\n        \"min\": 1,\n        \"max\": 5,\n        \"num_unique_values\": 5,\n        \"samples\": [\n          3,\n          4\n        ],\n        \"semantic_type\": \"\",\n        \"description\": \"\"\n      }\n    },\n    {\n      \"column\": \"Satisfaction_with_Remote_Work\",\n      \"properties\": {\n        \"dtype\": \"category\",\n        \"num_unique_values\": 3,\n        \"samples\": [\n          \"Unsatisfied\",\n          \"Satisfied\"\n        ],\n        \"semantic_type\": \"\",\n        \"description\": \"\"\n      }\n    },\n    {\n      \"column\": \"Company_Support_for_Remote_Work\",\n      \"properties\": {\n        \"dtype\": \"number\",\n        \"std\": 1,\n        \"min\": 1,\n        \"max\": 5,\n        \"num_unique_values\": 5,\n        \"samples\": [\n          2,\n          4\n        ],\n        \"semantic_type\": \"\",\n        \"description\": \"\"\n      }\n    },\n    {\n      \"column\": \"Physical_Activity\",\n      \"properties\": {\n        \"dtype\": \"category\",\n        \"num_unique_values\": 2,\n        \"samples\": [\n          \"Daily\",\n          \"Weekly\"\n        ],\n        \"semantic_type\": \"\",\n        \"description\": \"\"\n      }\n    },\n    {\n      \"column\": \"Sleep_Quality\",\n      \"properties\": {\n        \"dtype\": \"category\",\n        \"num_unique_values\": 3,\n        \"samples\": [\n          \"Good\",\n          \"Poor\"\n        ],\n        \"semantic_type\": \"\",\n        \"description\": \"\"\n      }\n    },\n    {\n      \"column\": \"Region\",\n      \"properties\": {\n        \"dtype\": \"category\",\n        \"num_unique_values\": 6,\n        \"samples\": [\n          \"Europe\",\n          \"Asia\"\n        ],\n        \"semantic_type\": \"\",\n        \"description\": \"\"\n      }\n    }\n  ]\n}"
            }
          },
          "metadata": {},
          "execution_count": 5
        }
      ]
    },
    {
      "cell_type": "markdown",
      "source": [
        "\n",
        "#One Hot Encoding."
      ],
      "metadata": {
        "id": "zUOMSoNUnQYe"
      }
    },
    {
      "cell_type": "code",
      "source": [
        "# Dropping Employee_ID column, as it just describes each unique employee, not necessary for analysis\n",
        "df_clean = df.drop(columns = 'Employee_ID')\n",
        "\n",
        "# Encode categorical features\n",
        "from sklearn.preprocessing import LabelEncoder\n",
        "\n",
        "label_encoders = {}\n",
        "for col in df.select_dtypes(include=['object']).columns:\n",
        "    le = LabelEncoder()\n",
        "    df[col] = le.fit_transform(df[col])  # Convert text to numeric labels\n",
        "    label_encoders[col] = le\n",
        "\n",
        "# Splitting columns into numerical & categorical data types for encoding\n",
        "numerical_cols = []\n",
        "categorical_cols = ['Gender', 'Job_Role', 'Industry', 'Work_Location', 'Stress_Level', 'Access_to_Mental_Health_Resources', 'Productivity_Change', 'Satisfaction_with_Remote_Work', 'Physical_Activity', 'Sleep_Quality', 'Region' ]\n",
        "\n",
        "# Checking if the loop split the columns correctly\n",
        "print(numerical_cols)\n",
        "print(categorical_cols)\n",
        "\n",
        "# Encoding the categorical columns to work for correlations / comparisons\n",
        "df_clean_encoded = pd.get_dummies(df_clean, columns = categorical_cols, drop_first=True)\n",
        "\n",
        "# Viewing encoded data\n",
        "df_clean_encoded.info()\n",
        "\n",
        "# Initialize LabelEncoder\n",
        "le = LabelEncoder()\n",
        "\n",
        "# Apply LabelEncoder to the 'Mental_health_condition' column\n",
        "target = le.fit_transform(target)\n",
        "\n",
        "# Optional: Check unique values and their encoded labels\n",
        "print(dict(zip(le.classes_, le.transform(le.classes_))))"
      ],
      "metadata": {
        "colab": {
          "base_uri": "https://localhost:8080/"
        },
        "id": "Ey5xuGrmnUOR",
        "outputId": "a4dd60bf-573c-4acd-f8f8-375282ecb039"
      },
      "execution_count": 10,
      "outputs": [
        {
          "output_type": "stream",
          "name": "stdout",
          "text": [
            "[]\n",
            "['Gender', 'Job_Role', 'Industry', 'Work_Location', 'Stress_Level', 'Access_to_Mental_Health_Resources', 'Productivity_Change', 'Satisfaction_with_Remote_Work', 'Physical_Activity', 'Sleep_Quality', 'Region']\n",
            "<class 'pandas.core.frame.DataFrame'>\n",
            "Index: 2577 entries, 0 to 4997\n",
            "Data columns (total 40 columns):\n",
            " #   Column                               Non-Null Count  Dtype\n",
            "---  ------                               --------------  -----\n",
            " 0   Age                                  2577 non-null   int64\n",
            " 1   Years_of_Experience                  2577 non-null   int64\n",
            " 2   Hours_Worked_Per_Week                2577 non-null   int64\n",
            " 3   Number_of_Virtual_Meetings           2577 non-null   int64\n",
            " 4   Work_Life_Balance_Rating             2577 non-null   int64\n",
            " 5   Mental_Health_Condition              2577 non-null   int64\n",
            " 6   Social_Isolation_Rating              2577 non-null   int64\n",
            " 7   Company_Support_for_Remote_Work      2577 non-null   int64\n",
            " 8   Gender_1                             2577 non-null   bool \n",
            " 9   Gender_2                             2577 non-null   bool \n",
            " 10  Gender_3                             2577 non-null   bool \n",
            " 11  Job_Role_1                           2577 non-null   bool \n",
            " 12  Job_Role_2                           2577 non-null   bool \n",
            " 13  Job_Role_3                           2577 non-null   bool \n",
            " 14  Job_Role_4                           2577 non-null   bool \n",
            " 15  Job_Role_5                           2577 non-null   bool \n",
            " 16  Job_Role_6                           2577 non-null   bool \n",
            " 17  Industry_1                           2577 non-null   bool \n",
            " 18  Industry_2                           2577 non-null   bool \n",
            " 19  Industry_3                           2577 non-null   bool \n",
            " 20  Industry_4                           2577 non-null   bool \n",
            " 21  Industry_5                           2577 non-null   bool \n",
            " 22  Industry_6                           2577 non-null   bool \n",
            " 23  Work_Location_1                      2577 non-null   bool \n",
            " 24  Work_Location_2                      2577 non-null   bool \n",
            " 25  Stress_Level_1                       2577 non-null   bool \n",
            " 26  Stress_Level_2                       2577 non-null   bool \n",
            " 27  Access_to_Mental_Health_Resources_1  2577 non-null   bool \n",
            " 28  Productivity_Change_1                2577 non-null   bool \n",
            " 29  Productivity_Change_2                2577 non-null   bool \n",
            " 30  Satisfaction_with_Remote_Work_1      2577 non-null   bool \n",
            " 31  Satisfaction_with_Remote_Work_2      2577 non-null   bool \n",
            " 32  Physical_Activity_1                  2577 non-null   bool \n",
            " 33  Sleep_Quality_1                      2577 non-null   bool \n",
            " 34  Sleep_Quality_2                      2577 non-null   bool \n",
            " 35  Region_1                             2577 non-null   bool \n",
            " 36  Region_2                             2577 non-null   bool \n",
            " 37  Region_3                             2577 non-null   bool \n",
            " 38  Region_4                             2577 non-null   bool \n",
            " 39  Region_5                             2577 non-null   bool \n",
            "dtypes: bool(32), int64(8)\n",
            "memory usage: 261.7 KB\n",
            "{0: 0, 1: 1, 2: 2}\n"
          ]
        }
      ]
    },
    {
      "cell_type": "markdown",
      "source": [
        "# Split Data for Training & Testing"
      ],
      "metadata": {
        "id": "m1V0OpkkjEE8"
      }
    },
    {
      "cell_type": "code",
      "source": [
        "from sklearn.model_selection import train_test_split\n",
        "\n",
        "# Define features (X) and target variable (y)\n",
        "X = df_clean_encoded.drop(columns = 'Mental_Health_Condition')\n",
        "y = target\n",
        "\n",
        "# Split into training (80%) and testing (20%) sets\n",
        "X_train, X_test, y_train, y_test = train_test_split(X, y, test_size=0.2, random_state=42)\n",
        "\n",
        "# Print dataset shape\n",
        "print(f\"\\nTraining Data: {X_train.shape}, Test Data: {X_test.shape}\")\n"
      ],
      "metadata": {
        "colab": {
          "base_uri": "https://localhost:8080/"
        },
        "id": "s9wtxV31jH8m",
        "outputId": "1aa174e6-2544-4528-8959-c107ab0cd042"
      },
      "execution_count": 18,
      "outputs": [
        {
          "output_type": "stream",
          "name": "stdout",
          "text": [
            "\n",
            "Training Data: (2061, 39), Test Data: (516, 39)\n"
          ]
        }
      ]
    },
    {
      "cell_type": "markdown",
      "source": [
        "#Decision Tree Model"
      ],
      "metadata": {
        "id": "n1_IDBtFjMBm"
      }
    },
    {
      "cell_type": "code",
      "source": [
        "from sklearn.model_selection import train_test_split\n",
        "from sklearn.tree import DecisionTreeClassifier\n",
        "from sklearn.metrics import accuracy_score, classification_report, confusion_matrix\n",
        "\n",
        "# Train Decision Tree Classifier\n",
        "model = DecisionTreeClassifier(max_depth=10, random_state=42)\n",
        "model.fit(X_train, y_train)\n",
        "\n",
        "# Make Predictions\n",
        "y_pred = model.predict(X_test)\n",
        "\n",
        "# Evaluate Model\n",
        "accuracy = accuracy_score(y_test, y_pred)\n",
        "print(f\"\\nClassification Accuracy: {accuracy:.2f}\")\n",
        "print(\"\\nClassification Report:\")\n",
        "print(classification_report(y_test, y_pred))\n",
        "conf_matrix = confusion_matrix(y_test, y_pred)\n",
        "print(\"Confusion Matrix:\\n\", conf_matrix)\n"
      ],
      "metadata": {
        "colab": {
          "base_uri": "https://localhost:8080/"
        },
        "id": "Bs-b5bvrjSZl",
        "outputId": "e5e5f440-c3e9-4b3a-f9a3-ab75bc7607e6"
      },
      "execution_count": 19,
      "outputs": [
        {
          "output_type": "stream",
          "name": "stdout",
          "text": [
            "\n",
            "Classification Accuracy: 0.33\n",
            "\n",
            "Classification Report:\n",
            "              precision    recall  f1-score   support\n",
            "\n",
            "           0       0.36      0.33      0.35       180\n",
            "           1       0.32      0.36      0.34       173\n",
            "           2       0.30      0.28      0.29       163\n",
            "\n",
            "    accuracy                           0.33       516\n",
            "   macro avg       0.33      0.33      0.33       516\n",
            "weighted avg       0.33      0.33      0.33       516\n",
            "\n",
            "Confusion Matrix:\n",
            " [[60 76 44]\n",
            " [48 63 62]\n",
            " [58 59 46]]\n"
          ]
        }
      ]
    },
    {
      "cell_type": "code",
      "source": [
        "from matplotlib.colors import LinearSegmentedColormap\n",
        "import matplotlib.pyplot as plt\n",
        "import numpy as np\n",
        "\n",
        "# Example confusion matrix (replace with your matrix)\n",
        "cm = conf_matrix\n",
        "classes = [0, 1, 2]  # Three classes labeled numerically\n",
        "\n",
        "# Define a gradient colormap with three colors\n",
        "color1 = \"#D7E9C0\"  # Light green\n",
        "color2 = \"#59B083\"  # Medium green\n",
        "color3 = \"#408F66\"  # Dark green\n",
        "custom_cmap = LinearSegmentedColormap.from_list(\"custom_cmap\", [color1, color2, color3])\n",
        "\n",
        "# Plot confusion matrix\n",
        "plt.figure(figsize=(7, 6))\n",
        "plt.imshow(cm, interpolation='nearest', cmap=custom_cmap)\n",
        "plt.colorbar()\n",
        "\n",
        "# Add labels\n",
        "tick_marks = np.arange(len(classes))\n",
        "plt.xticks(tick_marks, classes, rotation=45)\n",
        "plt.yticks(tick_marks, classes)\n",
        "\n",
        "# Add text annotations\n",
        "for i in range(cm.shape[0]):\n",
        "    for j in range(cm.shape[1]):\n",
        "        plt.text(j, i, str(cm[i, j]), ha='center', va='center', color='black', fontsize=24)\n",
        "\n",
        "plt.xlabel('Predicted Label')\n",
        "plt.ylabel('True Label')\n",
        "plt.title('Confusion Matrix')\n",
        "plt.tight_layout()\n",
        "plt.show()"
      ],
      "metadata": {
        "colab": {
          "base_uri": "https://localhost:8080/",
          "height": 610
        },
        "id": "Jhyd5Ukz302l",
        "outputId": "cdc7ddeb-698e-4a8f-934a-b387324d4dc4"
      },
      "execution_count": 20,
      "outputs": [
        {
          "output_type": "display_data",
          "data": {
            "text/plain": [
              "<Figure size 700x600 with 2 Axes>"
            ],
            "image/png": "[encoded data removed]"
          },
          "metadata": {}
        }
      ]
    },
    {
      "cell_type": "markdown",
      "source": [
        "#Random Forest Model\n"
      ],
      "metadata": {
        "id": "5jQvPDCS4SHP"
      }
    },
    {
      "cell_type": "code",
      "source": [
        "from sklearn.ensemble import RandomForestClassifier\n",
        "\n",
        "# Create Random Forest Classifier\n",
        "rf_model = RandomForestClassifier(n_estimators=200, max_depth=10, random_state=42)\n",
        "\n",
        "# Train the model\n",
        "rf_model.fit(X_train, y_train)\n",
        "\n",
        "from sklearn.metrics import accuracy_score, classification_report\n",
        "\n",
        "# Make Predictions\n",
        "y_pred = rf_model.predict(X_test)\n",
        "\n",
        "# Evaluate Model\n",
        "accuracy = accuracy_score(y_test, y_pred)\n",
        "print(f\"\\nClassification Accuracy: {accuracy:.2f}\")\n",
        "\n",
        "print(\"\\nClassification Report:\")\n",
        "print(classification_report(y_test, y_pred))\n"
      ],
      "metadata": {
        "id": "h8C3k8MV4VeB",
        "colab": {
          "base_uri": "https://localhost:8080/"
        },
        "outputId": "bbad4ccb-04c0-4a2a-c2b2-395f24dae99f"
      },
      "execution_count": 26,
      "outputs": [
        {
          "output_type": "stream",
          "name": "stdout",
          "text": [
            "\n",
            "Classification Accuracy: 0.35\n",
            "\n",
            "Classification Report:\n",
            "              precision    recall  f1-score   support\n",
            "\n",
            "           0       0.33      0.47      0.39       165\n",
            "           1       0.33      0.27      0.29       153\n",
            "           2       0.39      0.30      0.34       198\n",
            "\n",
            "    accuracy                           0.35       516\n",
            "   macro avg       0.35      0.35      0.34       516\n",
            "weighted avg       0.35      0.35      0.34       516\n",
            "\n"
          ]
        }
      ]
    },
    {
      "cell_type": "markdown",
      "source": [
        "# Feature Importance"
      ],
      "metadata": {
        "id": "5bpztt3eR8us"
      }
    },
    {
      "cell_type": "code",
      "source": [
        "import numpy as np\n",
        "import matplotlib.pyplot as plt\n",
        "\n",
        "# Get feature importance from the Random Forest model\n",
        "importances = rf_model.feature_importances_\n",
        "features = np.array(X.columns)\n",
        "\n",
        "# Sort by importance\n",
        "sorted_indices = np.argsort(importances)[::-1]\n",
        "sorted_features = features[sorted_indices]\n",
        "sorted_importance = importances[sorted_indices]\n",
        "\n",
        "# Display important features\n",
        "print(\"\\nTop 10 Important Features Selected:\")\n",
        "for i, feature in enumerate(top_features):\n",
        "    importance = sorted_importance[i]\n",
        "    print(f\"{i+1}. {feature}: {importance:.4f}\")\n",
        "\n",
        "# Plot feature importance for the top 10 features\n",
        "plt.figure(figsize=(10, 5))\n",
        "plt.barh(top_features[::-1], sorted_importance[:10][::-1], color='skyblue')\n",
        "plt.xlabel(\"Importance Score\")\n",
        "plt.ylabel(\"Feature\")\n",
        "plt.title(\"Top 10 Feature Importance in Productivity Prediction\")\n",
        "plt.show()"
      ],
      "metadata": {
        "colab": {
          "base_uri": "https://localhost:8080/",
          "height": 691
        },
        "id": "D_a9lP1cR_qa",
        "outputId": "b14811ca-4c4d-4d83-c48c-fea7cdccc63b"
      },
      "execution_count": 31,
      "outputs": [
        {
          "output_type": "stream",
          "name": "stdout",
          "text": [
            "\n",
            "Top 10 Important Features Selected:\n",
            "1. Age: 0.1144\n",
            "2. Company_Support_for_Remote_Work: 0.0954\n",
            "3. Years_of_Experience: 0.0945\n",
            "4. Mental_Health_Condition: 0.0922\n",
            "5. Gender_1: 0.0786\n",
            "6. Work_Life_Balance_Rating: 0.0577\n",
            "7. Number_of_Virtual_Meetings: 0.0555\n",
            "8. Industry_2: 0.0514\n",
            "9. Gender_2: 0.0471\n",
            "10. Job_Role_5: 0.0444\n"
          ]
        },
        {
          "output_type": "display_data",
          "data": {
            "text/plain": [
              "<Figure size 1000x500 with 1 Axes>"
            ],
            "image/png": "[encoded data removed]"
          },
          "metadata": {}
        }
      ]
    }
  ],
  "metadata": {
    "colab": {
      "provenance": [],
      "collapsed_sections": [
        "TdYF5tl46-zk",
        "IoIj-t2J7DRg"
      ]
    },
    "kernelspec": {
      "display_name": "Python 3",
      "name": "python3"
    },
    "language_info": {
      "name": "python"
    }
  },
  "nbformat": 4,
  "nbformat_minor": 0
}